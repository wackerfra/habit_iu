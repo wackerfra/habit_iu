{
 "cells": [
  {
   "cell_type": "code",
   "execution_count": 142,
   "metadata": {
    "collapsed": true
   },
   "outputs": [],
   "source": [
    "from datetime import datetime, timedelta\n",
    "\n",
    "\n",
    "class Habit:\n",
    "    periods = ('daily', 'weekly', 'monthly','yearly')\n",
    "    def __init__(self,habit,description, period,duration=60):\n",
    "        if habit is None or len(str(habit).strip()) == 0:\n",
    "            raise ValueError('Habit can not be empty')\n",
    "        self.habit = habit\n",
    "        if description is None or len(str(description).strip()) == 0:\n",
    "            raise ValueError('You must describe the habit')\n",
    "        self.description = description\n",
    "        if habit is None or len(str(habit).strip()) == 0:\n",
    "            raise ValueError('Habit can not be empty')\n",
    "        if period not in Habit.periods:\n",
    "            raise ValueError('Period must be daily, weekly, monthly or yearly')\n",
    "        self.period = period\n",
    "        self.duration = duration\n",
    "        self.created = datetime.utcnow()\n",
    "        self.completed = False\n",
    "        self.closed = False\n",
    "\n",
    "    def mark_completed(self):\n",
    "        if self.completed == True and self.last_completion_date.strftime(\"%Y-%m-%d\") == datetime.utcnow().strftime(\"%Y-%m-%d\"):\n",
    "            raise ValueError('The habit is already completed today')\n",
    "        self.completed = True\n",
    "        self.last_completion_date = datetime.strptime(datetime.utcnow().strftime(\"%Y-%m-%d %H:%M\"),\"%Y-%m-%d %H:%M\")\n"
   ]
  },
  {
   "cell_type": "code",
   "execution_count": 143,
   "outputs": [],
   "source": [
    "h1 = Habit('Coffee','drink less coffee','daily',45)"
   ],
   "metadata": {
    "collapsed": false
   }
  },
  {
   "cell_type": "code",
   "execution_count": 144,
   "outputs": [
    {
     "data": {
      "text/plain": "'Coffee'"
     },
     "execution_count": 144,
     "metadata": {},
     "output_type": "execute_result"
    }
   ],
   "source": [
    "h1.habit"
   ],
   "metadata": {
    "collapsed": false
   }
  },
  {
   "cell_type": "code",
   "execution_count": 145,
   "outputs": [
    {
     "data": {
      "text/plain": "False"
     },
     "execution_count": 145,
     "metadata": {},
     "output_type": "execute_result"
    }
   ],
   "source": [
    "h1.completed"
   ],
   "metadata": {
    "collapsed": false
   }
  },
  {
   "cell_type": "code",
   "execution_count": 146,
   "outputs": [],
   "source": [
    "h1.mark_completed()"
   ],
   "metadata": {
    "collapsed": false
   }
  },
  {
   "cell_type": "code",
   "execution_count": 147,
   "outputs": [
    {
     "data": {
      "text/plain": "datetime.datetime"
     },
     "execution_count": 147,
     "metadata": {},
     "output_type": "execute_result"
    }
   ],
   "source": [
    "type(h1.last_completion_date)"
   ],
   "metadata": {
    "collapsed": false
   }
  },
  {
   "cell_type": "code",
   "execution_count": 148,
   "outputs": [
    {
     "ename": "ValueError",
     "evalue": "The habit is already completed today",
     "output_type": "error",
     "traceback": [
      "\u001B[1;31m---------------------------------------------------------------------------\u001B[0m",
      "\u001B[1;31mValueError\u001B[0m                                Traceback (most recent call last)",
      "Cell \u001B[1;32mIn [148], line 1\u001B[0m\n\u001B[1;32m----> 1\u001B[0m \u001B[43mh1\u001B[49m\u001B[38;5;241;43m.\u001B[39;49m\u001B[43mmark_completed\u001B[49m\u001B[43m(\u001B[49m\u001B[43m)\u001B[49m\n",
      "Cell \u001B[1;32mIn [142], line 25\u001B[0m, in \u001B[0;36mHabit.mark_completed\u001B[1;34m(self)\u001B[0m\n\u001B[0;32m     23\u001B[0m \u001B[38;5;28;01mdef\u001B[39;00m \u001B[38;5;21mmark_completed\u001B[39m(\u001B[38;5;28mself\u001B[39m):\n\u001B[0;32m     24\u001B[0m     \u001B[38;5;28;01mif\u001B[39;00m \u001B[38;5;28mself\u001B[39m\u001B[38;5;241m.\u001B[39mcompleted \u001B[38;5;241m==\u001B[39m \u001B[38;5;28;01mTrue\u001B[39;00m \u001B[38;5;129;01mand\u001B[39;00m \u001B[38;5;28mself\u001B[39m\u001B[38;5;241m.\u001B[39mlast_completion_date\u001B[38;5;241m.\u001B[39mstrftime(\u001B[38;5;124m\"\u001B[39m\u001B[38;5;124m%\u001B[39m\u001B[38;5;124mY-\u001B[39m\u001B[38;5;124m%\u001B[39m\u001B[38;5;124mm-\u001B[39m\u001B[38;5;132;01m%d\u001B[39;00m\u001B[38;5;124m\"\u001B[39m) \u001B[38;5;241m==\u001B[39m datetime\u001B[38;5;241m.\u001B[39mutcnow()\u001B[38;5;241m.\u001B[39mstrftime(\u001B[38;5;124m\"\u001B[39m\u001B[38;5;124m%\u001B[39m\u001B[38;5;124mY-\u001B[39m\u001B[38;5;124m%\u001B[39m\u001B[38;5;124mm-\u001B[39m\u001B[38;5;132;01m%d\u001B[39;00m\u001B[38;5;124m\"\u001B[39m):\n\u001B[1;32m---> 25\u001B[0m         \u001B[38;5;28;01mraise\u001B[39;00m \u001B[38;5;167;01mValueError\u001B[39;00m(\u001B[38;5;124m'\u001B[39m\u001B[38;5;124mThe habit is already completed today\u001B[39m\u001B[38;5;124m'\u001B[39m)\n\u001B[0;32m     26\u001B[0m     \u001B[38;5;28mself\u001B[39m\u001B[38;5;241m.\u001B[39mcompleted \u001B[38;5;241m=\u001B[39m \u001B[38;5;28;01mTrue\u001B[39;00m\n\u001B[0;32m     27\u001B[0m     \u001B[38;5;28mself\u001B[39m\u001B[38;5;241m.\u001B[39mlast_completion_date \u001B[38;5;241m=\u001B[39m datetime\u001B[38;5;241m.\u001B[39mstrptime(datetime\u001B[38;5;241m.\u001B[39mutcnow()\u001B[38;5;241m.\u001B[39mstrftime(\u001B[38;5;124m\"\u001B[39m\u001B[38;5;124m%\u001B[39m\u001B[38;5;124mY-\u001B[39m\u001B[38;5;124m%\u001B[39m\u001B[38;5;124mm-\u001B[39m\u001B[38;5;132;01m%d\u001B[39;00m\u001B[38;5;124m \u001B[39m\u001B[38;5;124m%\u001B[39m\u001B[38;5;124mH:\u001B[39m\u001B[38;5;124m%\u001B[39m\u001B[38;5;124mM\u001B[39m\u001B[38;5;124m\"\u001B[39m),\u001B[38;5;124m\"\u001B[39m\u001B[38;5;124m%\u001B[39m\u001B[38;5;124mY-\u001B[39m\u001B[38;5;124m%\u001B[39m\u001B[38;5;124mm-\u001B[39m\u001B[38;5;132;01m%d\u001B[39;00m\u001B[38;5;124m \u001B[39m\u001B[38;5;124m%\u001B[39m\u001B[38;5;124mH:\u001B[39m\u001B[38;5;124m%\u001B[39m\u001B[38;5;124mM\u001B[39m\u001B[38;5;124m\"\u001B[39m)\n",
      "\u001B[1;31mValueError\u001B[0m: The habit is already completed today"
     ]
    }
   ],
   "source": [
    "h1.mark_completed()"
   ],
   "metadata": {
    "collapsed": false
   }
  },
  {
   "cell_type": "code",
   "execution_count": 302,
   "outputs": [],
   "source": [
    "from datetime import datetime, timedelta\n",
    "\n",
    "\n",
    "class Habit:\n",
    "    periods = ('daily', 'weekly', 'monthly','yearly')\n",
    "    def __init__(self,habit,description, period,duration=60):\n",
    "        if habit is None or len(str(habit).strip()) == 0:\n",
    "            raise ValueError('Habit can not be empty')\n",
    "        self.habit = habit\n",
    "        if description is None or len(str(description).strip()) == 0:\n",
    "            raise ValueError('You must describe the habit')\n",
    "        self.description = description\n",
    "        if habit is None or len(str(habit).strip()) == 0:\n",
    "            raise ValueError('Habit can not be empty')\n",
    "        if period not in Habit.periods:\n",
    "            raise ValueError('Period must be daily, weekly, monthly or yearly')\n",
    "        self.period = period\n",
    "        self.duration = duration\n",
    "        self.created = datetime.utcnow()\n",
    "        self.completed = False\n",
    "        self.closed = False\n",
    "\n",
    "    def mark_completed(self):\n",
    "        if self.completed == True and self.last_completion_date.strftime(\"%Y-%m-%d\") == datetime.utcnow().strftime(\"%Y-%m-%d\"):\n",
    "            raise ValueError('The habit is already completed today')\n",
    "        self.completed = True\n",
    "        self.last_completion_date = datetime.strptime(datetime.utcnow().strftime(\"%Y-%m-%d %H:%M\"),\"%Y-%m-%d %H:%M\")\n",
    "\n",
    "    def check_duration(self):\n",
    "        diff = datetime.utcnow() - self.created\n",
    "        diff_days = int(diff / timedelta(days=1))\n",
    "        if self.duration <= diff_days:\n",
    "            self.closed = True\n",
    "        return f'You have {self.duration - diff_days} days left to complete the task'\n",
    "\n",
    "    def delete_habit(self):\n",
    "        if self.closed == False:\n",
    "            print(f'{self.habit} deleted')\n",
    "            del self\n",
    "\n"
   ],
   "metadata": {
    "collapsed": false
   }
  },
  {
   "cell_type": "code",
   "execution_count": 303,
   "outputs": [],
   "source": [
    "h2 = Habit('Tea', 'drink more Tea','daily',30)"
   ],
   "metadata": {
    "collapsed": false
   }
  },
  {
   "cell_type": "code",
   "execution_count": 304,
   "outputs": [
    {
     "data": {
      "text/plain": "'You have 30 days left to complete the task'"
     },
     "execution_count": 304,
     "metadata": {},
     "output_type": "execute_result"
    }
   ],
   "source": [
    "h2.check_duration()"
   ],
   "metadata": {
    "collapsed": false
   }
  },
  {
   "cell_type": "code",
   "execution_count": 305,
   "outputs": [
    {
     "data": {
      "text/plain": "False"
     },
     "execution_count": 305,
     "metadata": {},
     "output_type": "execute_result"
    }
   ],
   "source": [
    "h2.closed"
   ],
   "metadata": {
    "collapsed": false
   }
  },
  {
   "cell_type": "code",
   "execution_count": 306,
   "outputs": [
    {
     "data": {
      "text/plain": "{'habit': 'Tea',\n 'description': 'drink more Tea',\n 'period': 'daily',\n 'duration': 30,\n 'created': datetime.datetime(2022, 11, 15, 14, 34, 59, 639844),\n 'completed': False,\n 'closed': False}"
     },
     "execution_count": 306,
     "metadata": {},
     "output_type": "execute_result"
    }
   ],
   "source": [
    "h2.__dict__"
   ],
   "metadata": {
    "collapsed": false
   }
  },
  {
   "cell_type": "code",
   "execution_count": 307,
   "outputs": [],
   "source": [
    "h2.mark_completed()"
   ],
   "metadata": {
    "collapsed": false
   }
  },
  {
   "cell_type": "code",
   "execution_count": 308,
   "outputs": [
    {
     "ename": "ValueError",
     "evalue": "The habit is already completed today",
     "output_type": "error",
     "traceback": [
      "\u001B[1;31m---------------------------------------------------------------------------\u001B[0m",
      "\u001B[1;31mValueError\u001B[0m                                Traceback (most recent call last)",
      "Cell \u001B[1;32mIn [308], line 1\u001B[0m\n\u001B[1;32m----> 1\u001B[0m \u001B[43mh2\u001B[49m\u001B[38;5;241;43m.\u001B[39;49m\u001B[43mmark_completed\u001B[49m\u001B[43m(\u001B[49m\u001B[43m)\u001B[49m\n",
      "Cell \u001B[1;32mIn [302], line 25\u001B[0m, in \u001B[0;36mHabit.mark_completed\u001B[1;34m(self)\u001B[0m\n\u001B[0;32m     23\u001B[0m \u001B[38;5;28;01mdef\u001B[39;00m \u001B[38;5;21mmark_completed\u001B[39m(\u001B[38;5;28mself\u001B[39m):\n\u001B[0;32m     24\u001B[0m     \u001B[38;5;28;01mif\u001B[39;00m \u001B[38;5;28mself\u001B[39m\u001B[38;5;241m.\u001B[39mcompleted \u001B[38;5;241m==\u001B[39m \u001B[38;5;28;01mTrue\u001B[39;00m \u001B[38;5;129;01mand\u001B[39;00m \u001B[38;5;28mself\u001B[39m\u001B[38;5;241m.\u001B[39mlast_completion_date\u001B[38;5;241m.\u001B[39mstrftime(\u001B[38;5;124m\"\u001B[39m\u001B[38;5;124m%\u001B[39m\u001B[38;5;124mY-\u001B[39m\u001B[38;5;124m%\u001B[39m\u001B[38;5;124mm-\u001B[39m\u001B[38;5;132;01m%d\u001B[39;00m\u001B[38;5;124m\"\u001B[39m) \u001B[38;5;241m==\u001B[39m datetime\u001B[38;5;241m.\u001B[39mutcnow()\u001B[38;5;241m.\u001B[39mstrftime(\u001B[38;5;124m\"\u001B[39m\u001B[38;5;124m%\u001B[39m\u001B[38;5;124mY-\u001B[39m\u001B[38;5;124m%\u001B[39m\u001B[38;5;124mm-\u001B[39m\u001B[38;5;132;01m%d\u001B[39;00m\u001B[38;5;124m\"\u001B[39m):\n\u001B[1;32m---> 25\u001B[0m         \u001B[38;5;28;01mraise\u001B[39;00m \u001B[38;5;167;01mValueError\u001B[39;00m(\u001B[38;5;124m'\u001B[39m\u001B[38;5;124mThe habit is already completed today\u001B[39m\u001B[38;5;124m'\u001B[39m)\n\u001B[0;32m     26\u001B[0m     \u001B[38;5;28mself\u001B[39m\u001B[38;5;241m.\u001B[39mcompleted \u001B[38;5;241m=\u001B[39m \u001B[38;5;28;01mTrue\u001B[39;00m\n\u001B[0;32m     27\u001B[0m     \u001B[38;5;28mself\u001B[39m\u001B[38;5;241m.\u001B[39mlast_completion_date \u001B[38;5;241m=\u001B[39m datetime\u001B[38;5;241m.\u001B[39mstrptime(datetime\u001B[38;5;241m.\u001B[39mutcnow()\u001B[38;5;241m.\u001B[39mstrftime(\u001B[38;5;124m\"\u001B[39m\u001B[38;5;124m%\u001B[39m\u001B[38;5;124mY-\u001B[39m\u001B[38;5;124m%\u001B[39m\u001B[38;5;124mm-\u001B[39m\u001B[38;5;132;01m%d\u001B[39;00m\u001B[38;5;124m \u001B[39m\u001B[38;5;124m%\u001B[39m\u001B[38;5;124mH:\u001B[39m\u001B[38;5;124m%\u001B[39m\u001B[38;5;124mM\u001B[39m\u001B[38;5;124m\"\u001B[39m),\u001B[38;5;124m\"\u001B[39m\u001B[38;5;124m%\u001B[39m\u001B[38;5;124mY-\u001B[39m\u001B[38;5;124m%\u001B[39m\u001B[38;5;124mm-\u001B[39m\u001B[38;5;132;01m%d\u001B[39;00m\u001B[38;5;124m \u001B[39m\u001B[38;5;124m%\u001B[39m\u001B[38;5;124mH:\u001B[39m\u001B[38;5;124m%\u001B[39m\u001B[38;5;124mM\u001B[39m\u001B[38;5;124m\"\u001B[39m)\n",
      "\u001B[1;31mValueError\u001B[0m: The habit is already completed today"
     ]
    }
   ],
   "source": [
    "h2.mark_completed()"
   ],
   "metadata": {
    "collapsed": false
   }
  },
  {
   "cell_type": "code",
   "execution_count": 309,
   "outputs": [
    {
     "name": "stdout",
     "output_type": "stream",
     "text": [
      "Tea deleted\n"
     ]
    }
   ],
   "source": [
    "h2.delete_habit()"
   ],
   "metadata": {
    "collapsed": false
   }
  },
  {
   "cell_type": "code",
   "execution_count": 310,
   "outputs": [
    {
     "ename": "AttributeError",
     "evalue": "'Habit' object has no attribute 'closed'",
     "output_type": "error",
     "traceback": [
      "\u001B[1;31m---------------------------------------------------------------------------\u001B[0m",
      "\u001B[1;31mAttributeError\u001B[0m                            Traceback (most recent call last)",
      "Cell \u001B[1;32mIn [310], line 1\u001B[0m\n\u001B[1;32m----> 1\u001B[0m \u001B[43mh2\u001B[49m\u001B[38;5;241;43m.\u001B[39;49m\u001B[43mclosed\u001B[49m\n",
      "\u001B[1;31mAttributeError\u001B[0m: 'Habit' object has no attribute 'closed'"
     ]
    }
   ],
   "source": [
    "h2.closed"
   ],
   "metadata": {
    "collapsed": false
   }
  },
  {
   "cell_type": "code",
   "execution_count": 311,
   "outputs": [
    {
     "data": {
      "text/plain": "{}"
     },
     "execution_count": 311,
     "metadata": {},
     "output_type": "execute_result"
    }
   ],
   "source": [
    "h2.__dict__"
   ],
   "metadata": {
    "collapsed": false
   }
  },
  {
   "cell_type": "code",
   "execution_count": 312,
   "outputs": [],
   "source": [
    "del h2"
   ],
   "metadata": {
    "collapsed": false
   }
  },
  {
   "cell_type": "code",
   "execution_count": 313,
   "outputs": [
    {
     "ename": "NameError",
     "evalue": "name 'h2' is not defined",
     "output_type": "error",
     "traceback": [
      "\u001B[1;31m---------------------------------------------------------------------------\u001B[0m",
      "\u001B[1;31mNameError\u001B[0m                                 Traceback (most recent call last)",
      "Cell \u001B[1;32mIn [313], line 1\u001B[0m\n\u001B[1;32m----> 1\u001B[0m \u001B[43mh2\u001B[49m\u001B[38;5;241m.\u001B[39mclosed\n",
      "\u001B[1;31mNameError\u001B[0m: name 'h2' is not defined"
     ]
    }
   ],
   "source": [
    "h2.closed"
   ],
   "metadata": {
    "collapsed": false
   }
  },
  {
   "cell_type": "code",
   "execution_count": 2,
   "outputs": [],
   "source": [
    "from datetime import datetime, timedelta\n",
    "import sqlite3\n",
    "\n",
    "\n",
    "def connect_db():\n",
    "        try:\n",
    "            conn = sqlite3.connect('habit.db')\n",
    "           # c = conn.cursor()\n",
    "\n",
    "        except ConnectionError as ex:\n",
    "            print(ex)\n",
    "\n",
    "        return conn\n",
    "\n",
    "class Habit:\n",
    "    periods = {1:'daily', 2:'weekly', 3:'monthly', 4:'yearly'}\n",
    "\n",
    "\n",
    "    def __init__(self, habit, description, period, duration=60):\n",
    "\n",
    "        if habit is None or len(str(habit).strip()) == 0:\n",
    "            raise ValueError('Habit can not be empty')\n",
    "        self.habit = habit\n",
    "\n",
    "        if description is None or len(str(description).strip()) == 0:\n",
    "            raise ValueError('You must describe the habit')\n",
    "        self.description = description\n",
    "\n",
    "        if period not in Habit.periods:\n",
    "            raise ValueError('Period must be daily, weekly, monthly or yearly')\n",
    "        self.period = period\n",
    "\n",
    "        self.duration = duration\n",
    "        self.created = datetime.utcnow()\n",
    "        self.completed = False\n",
    "        self.closed = False\n",
    "        self.last_completion_date = None\n",
    "\n",
    "    def mark_completed(self):\n",
    "        if self.completed == True and self.last_completion_date.strftime(\"%Y-%m-%d\") == datetime.utcnow().strftime(\n",
    "                \"%Y-%m-%d\"):\n",
    "            raise ValueError('The habit is already completed today')\n",
    "        self.completed = True\n",
    "        self.last_completion_date = datetime.strptime(datetime.utcnow().strftime(\"%Y-%m-%d %H:%M\"), \"%Y-%m-%d %H:%M\")\n",
    "\n",
    "    def check_duration(self):\n",
    "        diff = datetime.utcnow() - self.created\n",
    "        diff_days = int(diff / timedelta(days=1))\n",
    "        if self.duration <= diff_days:\n",
    "            self.closed = True\n",
    "        return f'You have {self.duration - diff_days} days left to complete the task'\n",
    "\n",
    "    def delete_habit(self):\n",
    "        if self.closed == False:\n",
    "            pass\n",
    "    # TODO: delete the instance\n",
    "\n",
    "    def save_to_db(self):\n",
    "        try:\n",
    "           conn = connect_db()\n",
    "           cur = conn.cursor()\n",
    "           print('connected...')\n",
    "           habit_data = [\n",
    "               (None,self.habit, self.description, self.period, self.duration, self.created, self.closed, self.last_completion_date)\n",
    "           ]\n",
    "           cur.executemany(\"\"\"INSERT INTO habits  VALUES (?,?,?,?,?,?,?,?)\"\"\", habit_data)\n",
    "        except ConnectionError as ex:\n",
    "            print(self.habit)\n",
    "            print(ex)\n",
    "\n",
    "\n",
    "        try:\n",
    "            conn.commit()\n",
    "            print('commit...')\n",
    "            # close connection\n",
    "            conn.close()\n",
    "            print('connection closed...')\n",
    "        except ConnectionError as ex:\n",
    "            print(ex)\n",
    "\n",
    "\n"
   ],
   "metadata": {
    "collapsed": false
   }
  },
  {
   "cell_type": "code",
   "execution_count": 453,
   "outputs": [],
   "source": [
    "h2 = Habit('Tea', 'drink more Tea',1,30)"
   ],
   "metadata": {
    "collapsed": false
   }
  },
  {
   "cell_type": "code",
   "execution_count": 454,
   "outputs": [
    {
     "name": "stdout",
     "output_type": "stream",
     "text": [
      "connected...\n",
      "commit...\n",
      "connection closed...\n"
     ]
    }
   ],
   "source": [
    "h2.save_to_db()"
   ],
   "metadata": {
    "collapsed": false
   }
  },
  {
   "cell_type": "code",
   "execution_count": 455,
   "outputs": [
    {
     "data": {
      "text/plain": "'Tea'"
     },
     "execution_count": 455,
     "metadata": {},
     "output_type": "execute_result"
    }
   ],
   "source": [
    "h2.habit"
   ],
   "metadata": {
    "collapsed": false
   }
  },
  {
   "cell_type": "code",
   "execution_count": 5,
   "outputs": [],
   "source": [
    "h1 = Habit('Coffee','drink less coffee',1,45)"
   ],
   "metadata": {
    "collapsed": false
   }
  },
  {
   "cell_type": "code",
   "execution_count": 6,
   "outputs": [
    {
     "name": "stdout",
     "output_type": "stream",
     "text": [
      "connected...\n",
      "commit...\n",
      "connection closed...\n"
     ]
    }
   ],
   "source": [
    "h1.save_to_db()"
   ],
   "metadata": {
    "collapsed": false
   }
  },
  {
   "cell_type": "code",
   "execution_count": 62,
   "outputs": [],
   "source": [
    "from datetime import datetime, timedelta\n",
    "import sqlite3\n",
    "\n",
    "from tabulate import tabulate, tabulate_formats\n",
    "\n",
    "\n",
    "def connect_db():\n",
    "        try:\n",
    "            conn = sqlite3.connect('habit.db')\n",
    "\n",
    "        except ConnectionError as ex:\n",
    "            print(ex)\n",
    "\n",
    "        return conn\n",
    "\n",
    "class Habit:\n",
    "    periods = {1:'daily', 2:'weekly', 3:'monthly', 4:'yearly'}\n",
    "\n",
    "\n",
    "    def __init__(self, habit, description, period, duration=60,is_template=0):\n",
    "\n",
    "        if habit is None or len(str(habit).strip()) == 0:\n",
    "            raise ValueError('Habit can not be empty')\n",
    "        self.habit = habit\n",
    "\n",
    "        if description is None or len(str(description).strip()) == 0:\n",
    "            raise ValueError('You must describe the habit')\n",
    "        self.description = description\n",
    "\n",
    "        if period not in Habit.periods:\n",
    "            raise ValueError('Period must be daily, weekly, monthly or yearly')\n",
    "        self.period = period\n",
    "\n",
    "        self.duration = duration\n",
    "        self.created = datetime.now()\n",
    "        self.completed = False\n",
    "        self.closed = False\n",
    "        self.last_completion_date = None\n",
    "        self.is_template = is_template\n",
    "        self.habits_id = None\n",
    "        self.habits_id = self.get_habits_id()\n",
    "\n",
    "        # check if the Habit is still open\n",
    "        status = self.check_duration()\n",
    "        print(status)\n",
    "    def get_habits_id(self):\n",
    "        if self.habits_id is None:\n",
    "            # connect to DB and get current record\n",
    "            try:\n",
    "               conn = connect_db()\n",
    "               cur = conn.cursor()\n",
    "            except ConnectionError as ex:\n",
    "                print(ex)\n",
    "            rs = cur.execute(\"\"\"SELECT MAX(habits_id) FROM habits \"\"\")\n",
    "            nxt = rs.fetchone()[0]\n",
    "            nxt += 1\n",
    "            print(nxt)\n",
    "            return nxt\n",
    "        return self.habits_id\n",
    "\n",
    "\n",
    "    def mark_completed(self):\n",
    "        # connect to DB and get current record\n",
    "        try:\n",
    "           conn = connect_db()\n",
    "           cur = conn.cursor()\n",
    "        except ConnectionError as ex:\n",
    "            print(ex)\n",
    "        if self.last_completion_date.strftime(\"%Y-%m-%d\") == datetime.now().strftime(\n",
    "                \"%Y-%m-%d\"):\n",
    "            raise ValueError('The habit is already completed today')\n",
    "        self.last_completion_date = datetime.strptime(datetime.now().strftime(\"%Y-%m-%d %H:%M\"), \"%Y-%m-%d %H:%M\")\n",
    "       # update record\n",
    "        try:\n",
    "           cur.execute(\"\"\" UPDATE habits SET last_completion_date = ? WHERE name = ? \"\"\", (self.last_completion_date,self.habit))\n",
    "           conn.commit()\n",
    "           print('commit...')\n",
    "           # close connection\n",
    "           conn.close()\n",
    "           print('connection closed...')\n",
    "        except ConnectionError as ex:\n",
    "            print(ex)\n",
    "\n",
    "\n",
    "    def check_duration(self):\n",
    "        diff = datetime.now() - self.created\n",
    "        diff_days = int(diff / timedelta(days=1))\n",
    "        if self.duration <= diff_days and self.closed == False:\n",
    "            self.closed = True\n",
    "            conn = connect_db()\n",
    "            cur = conn.cursor()\n",
    "            try:\n",
    "               cur.execute(\"\"\" UPDATE habits SET closed = 1 WHERE habits_id = ? \"\"\", self.habits_id)\n",
    "               conn.commit()\n",
    "               # close connection\n",
    "               conn.close()\n",
    "            except ConnectionError as ex:\n",
    "                print(ex)\n",
    "        return f'You have {self.duration - diff_days} days left to complete the task'\n",
    "\n",
    "    def delete_habit(self):\n",
    "        try:\n",
    "           conn = connect_db()\n",
    "           cur = conn.cursor()\n",
    "\n",
    "           cur.execute(\"\"\"DELETE FROM habits  WHERE habits_id = ?\"\"\", self.habits_id)\n",
    "           conn.commit()\n",
    "               # close connection\n",
    "           conn.close()\n",
    "        except ConnectionError as ex:\n",
    "            print(self.habit)\n",
    "            print(ex)\n",
    "    # TODO: delete the instance\n",
    "\n",
    "    def save_to_db(self):\n",
    "        try:\n",
    "           conn = connect_db()\n",
    "           cur = conn.cursor()\n",
    "           print('connected...')\n",
    "           habit_data = [\n",
    "               (self.habits_id,self.habit, self.description, self.period, self.duration, self.created, self.closed, self.last_completion_date, self.is_template)\n",
    "           ]\n",
    "           cur.executemany(\"\"\"INSERT INTO habits  VALUES (?,?,?,?,?,?,?,?,?)\"\"\", habit_data)\n",
    "        except ConnectionError as ex:\n",
    "            print(ex)\n",
    "\n",
    "        try:\n",
    "            conn.commit()\n",
    "            # close connection\n",
    "            conn.close()\n",
    "        except ConnectionError as ex:\n",
    "            print(ex)\n",
    "\n",
    "\n",
    "    def read_habit(self, hid):\n",
    "        # hid_ = str(hid)\n",
    "        try:\n",
    "           conn = connect_db()\n",
    "           cur = conn.cursor()\n",
    "           rs = cur.execute(\"\"\" SELECT * FROM habits WHERE habits_id = ? \"\"\", str(hid))\n",
    "        except ConnectionError as ex:\n",
    "            print(ex)\n",
    "        return rs.fetchone()\n",
    "\n",
    "def show_all_habits():\n",
    "    table_format = 'fancy_outline'\n",
    "    first_row = ['id','name','description','period','duration','last_completion_date']\n",
    "    try:\n",
    "        conn = connect_db()\n",
    "        cur = conn.cursor()\n",
    "        rs = cur.execute(\"\"\" SELECT habits_id,name,description,periods_fk,duration,last_completion_date FROM habits WHERE closed == FALSE\"\"\")\n",
    "    except ConnectionError as ex:\n",
    "            print(ex)\n",
    "\n",
    "    rows = list(rs.fetchall())\n",
    "\n",
    "    print(tabulate(rows,headers= first_row,tablefmt=table_format))\n",
    "\n"
   ],
   "metadata": {
    "collapsed": false
   }
  },
  {
   "cell_type": "code",
   "execution_count": 63,
   "outputs": [
    {
     "name": "stdout",
     "output_type": "stream",
     "text": [
      "5\n",
      "You have 90 days left to complete the task\n"
     ]
    }
   ],
   "source": [
    "h2 = Habit('Exercise', 'Exercise weekly', 2, 90)"
   ],
   "metadata": {
    "collapsed": false
   }
  },
  {
   "cell_type": "code",
   "execution_count": 64,
   "outputs": [
    {
     "name": "stdout",
     "output_type": "stream",
     "text": [
      "╒══════╤══════════╤═══════════════════╤══════════╤════════════╤════════════════════════╕\n",
      "│   id │ name     │ description       │   period │   duration │ last_completion_date   │\n",
      "╞══════╪══════════╪═══════════════════╪══════════╪════════════╪════════════════════════╡\n",
      "│    2 │ Tea      │ drink more Tea    │        1 │         30 │                        │\n",
      "│    3 │ Coffee   │ drink less coffee │        1 │         45 │                        │\n",
      "│    4 │ Exercise │ Exercise weekly   │        2 │         90 │ 2022-11-20 12:27:00    │\n",
      "╘══════╧══════════╧═══════════════════╧══════════╧════════════╧════════════════════════╛\n"
     ]
    }
   ],
   "source": [
    " show_all_habits()"
   ],
   "metadata": {
    "collapsed": false
   }
  },
  {
   "cell_type": "code",
   "execution_count": 65,
   "outputs": [
    {
     "data": {
      "text/plain": "5"
     },
     "execution_count": 65,
     "metadata": {},
     "output_type": "execute_result"
    }
   ],
   "source": [
    "h2.habits_id"
   ],
   "metadata": {
    "collapsed": false
   }
  },
  {
   "cell_type": "code",
   "execution_count": 45,
   "outputs": [],
   "source": [
    "from datetime import datetime, timedelta\n",
    "import sqlite3\n",
    "\n",
    "from tabulate import tabulate, tabulate_formats\n",
    "\n",
    "import src.habit as ha\n",
    "\n",
    "def connect_db():\n",
    "        try:\n",
    "            conn = sqlite3.connect('habit.db')\n",
    "\n",
    "        except ConnectionError as ex:\n",
    "            print(ex)\n",
    "\n",
    "        return conn\n",
    "def mark_done_today(hid):\n",
    "    \"\"\" mark the task as done for today\n",
    "\n",
    "    :param hid:\n",
    "    :type habit_id:\n",
    "    :return:\n",
    "    :rtype:\n",
    "    \"\"\"\n",
    "    try:\n",
    "        conn = connect_db()\n",
    "        cur = conn.cursor()\n",
    "        rs = cur.execute(\"\"\" SELECT  habits_id,name,description,periods_fk,duration,last_completion_date FROM habits WHERE  habits_id = ?  \"\"\", str(hid))\n",
    "        rows = list(rs.fetchall())\n",
    "    except sqlite3.Error as ex:\n",
    "        print(ex)\n",
    "\n",
    "    param = rows[0]\n",
    "    conn.commit()\n",
    "    conn.close()\n",
    "    hab = ha.Habit(param[1], param[2], param[3])\n",
    "    hab.save_to_db()\n",
    "    hab.mark_completed()"
   ],
   "metadata": {
    "collapsed": false
   }
  },
  {
   "cell_type": "code",
   "execution_count": 66,
   "outputs": [
    {
     "name": "stdout",
     "output_type": "stream",
     "text": [
      "You have 60 days left to complete the task\n",
      "connected...\n"
     ]
    }
   ],
   "source": [
    "mark_done_today(2)"
   ],
   "metadata": {
    "collapsed": false
   }
  },
  {
   "cell_type": "code",
   "execution_count": 47,
   "outputs": [
    {
     "ename": "NameError",
     "evalue": "name 'hab' is not defined",
     "output_type": "error",
     "traceback": [
      "\u001B[1;31m---------------------------------------------------------------------------\u001B[0m",
      "\u001B[1;31mNameError\u001B[0m                                 Traceback (most recent call last)",
      "Cell \u001B[1;32mIn [47], line 1\u001B[0m\n\u001B[1;32m----> 1\u001B[0m \u001B[43mhab\u001B[49m\n",
      "\u001B[1;31mNameError\u001B[0m: name 'hab' is not defined"
     ]
    }
   ],
   "source": [],
   "metadata": {
    "collapsed": false
   }
  },
  {
   "cell_type": "code",
   "execution_count": null,
   "outputs": [],
   "source": [],
   "metadata": {
    "collapsed": false
   }
  }
 ],
 "metadata": {
  "kernelspec": {
   "display_name": "Python 3",
   "language": "python",
   "name": "python3"
  },
  "language_info": {
   "codemirror_mode": {
    "name": "ipython",
    "version": 2
   },
   "file_extension": ".py",
   "mimetype": "text/x-python",
   "name": "python",
   "nbconvert_exporter": "python",
   "pygments_lexer": "ipython2",
   "version": "2.7.6"
  }
 },
 "nbformat": 4,
 "nbformat_minor": 0
}
