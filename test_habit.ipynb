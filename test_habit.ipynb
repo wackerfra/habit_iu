{
 "cells": [
  {
   "cell_type": "code",
   "execution_count": null,
   "metadata": {
    "collapsed": true
   },
   "outputs": [],
   "source": []
  },
  {
   "cell_type": "code",
   "execution_count": 12,
   "outputs": [],
   "source": [
    "from datetime import datetime, timedelta\n",
    "import sqlite3\n",
    "\n",
    "\n",
    "def connect_db():\n",
    "    try:\n",
    "        conn = sqlite3.connect('habit.db')\n",
    "\n",
    "    except ConnectionError as ex:\n",
    "        conn = None\n",
    "        print(ex)\n",
    "\n",
    "    return conn\n",
    "\n",
    "\n",
    "class Habit:\n",
    "    periods = {1: 'daily', 2: 'weekly', 3: 'monthly', 4: 'yearly'}\n",
    "\n",
    "    def __init__(self, habit, description, period, duration=60, is_template=0):\n",
    "\n",
    "        if habit is None or len(str(habit).strip()) == 0:\n",
    "            raise ValueError('Habit can not be empty')\n",
    "        self.habit = habit\n",
    "\n",
    "        if description is None or len(str(description).strip()) == 0:\n",
    "            raise ValueError('You must describe the habit')\n",
    "        self.description = description\n",
    "\n",
    "        if period not in Habit.periods:\n",
    "            raise ValueError('Period must be daily, weekly, monthly or yearly')\n",
    "        self.period = period\n",
    "\n",
    "        self.duration = duration\n",
    "        self.created = datetime.now()\n",
    "        self.completed = False\n",
    "        self.closed = False\n",
    "        self.last_completion_date = None\n",
    "        self.is_template = is_template\n",
    "        self.habits_id = None\n",
    "        self.habits_id = self.get_habits_id()\n",
    "\n",
    "        # check if the Habit is still open\n",
    "        # status = self.check_duration()\n",
    "        # print(status)\n",
    "\n",
    "    @staticmethod\n",
    "    def get_instance(hid):\n",
    "        \"\"\" get the habit instance from the database \"\"\"\n",
    "        period = None\n",
    "        try:\n",
    "            conn = connect_db()\n",
    "            cur = conn.cursor()\n",
    "            rs = cur.execute(f\"SELECT * FROM habits WHERE habits_id = {hid} ORDER BY last_completion_date DESC\")\n",
    "            rows = list(rs.fetchone())\n",
    "        except sqlite3.Error as ex:\n",
    "            print(ex)\n",
    "\n",
    "        # create a new habit instance\n",
    "        try:\n",
    "            habit = Habit(rows[1], rows[2], rows[3], rows[4], rows[8])\n",
    "            habit.habits_id = rows[0]\n",
    "            habit.created = rows[5]\n",
    "            habit.closed = rows[6]\n",
    "            habit.last_completion_date = rows[7]\n",
    "            return habit\n",
    "        except ValueError as ex:\n",
    "            print(ex)\n",
    "\n",
    "    def get_habits_id(self):\n",
    "        \"\"\" get the habits_id from the database \"\"\"\n",
    "\n",
    "        if self.habits_id is None:\n",
    "            # connect to DB and get current record\n",
    "            try:\n",
    "                conn = connect_db()\n",
    "                cur = conn.cursor()\n",
    "            except ConnectionError as ex:\n",
    "                conn.close()\n",
    "                print(ex)\n",
    "            rs = cur.execute(\"\"\"SELECT MAX(habits_id) FROM habits \"\"\")\n",
    "            nxt = rs.fetchone()[0]\n",
    "            nxt += 1\n",
    "            conn.close()\n",
    "            return nxt\n",
    "        return self.habits_id\n",
    "\n",
    "    def delete(self):\n",
    "        \"\"\" delete the habit from the database \"\"\"\n",
    "        try:\n",
    "            conn = connect_db()\n",
    "            cur = conn.cursor()\n",
    "            cur.execute(f\"DELETE FROM habits WHERE habits_id = {self.habits_id}\")\n",
    "            conf = input(f'Are you sure you want to delete the habit {self.habit}? (y/n)\\n')\n",
    "            if conf == 'y':\n",
    "                conn.commit()\n",
    "                print(f'Habit {self.habit} has been deleted.')\n",
    "            else:\n",
    "                conn.rollback()\n",
    "                print('Action cancelled.')\n",
    "        except ConnectionError as ex:\n",
    "            print(ex)\n",
    "            conn.close()\n",
    "\n",
    "    def check_duration(self):\n",
    "        \"\"\" check if the habit is still open \"\"\"\n",
    "        date_format = \"%Y-%m-%d %H:%M:%S.%f\"\n",
    "        a = datetime.today()\n",
    "        b = datetime.strptime(self.created, date_format)\n",
    "        diff = a - b\n",
    "\n",
    "        # diff_days = int(diff / timedelta(days=1))\n",
    "        if self.duration <= diff.days and self.closed == False:\n",
    "            self.closed = True\n",
    "            conn = connect_db()\n",
    "            cur = conn.cursor()\n",
    "            try:\n",
    "                cur.execute(\"\"\" UPDATE habits SET closed = 1 WHERE habits_id = ?\"\"\", str(self.habits_id))\n",
    "                conn.commit()\n",
    "                # close connection\n",
    "                conn.close()\n",
    "            except ConnectionError as ex:\n",
    "                conn.close()\n",
    "                print(ex)\n",
    "        days_left = int(self.duration) - int(diff.days)\n",
    "        print(f'You have {days_left} days left to complete the task')\n",
    "        return diff.days  # return the number of days left\n",
    "\n",
    "    def complete_today(self):\n",
    "        \"\"\" mark the habit as completed \"\"\"\n",
    "        if self.last_completion_date is not None:\n",
    "            if self.last_completion_date[0: 10] == datetime.now().strftime(\"%Y-%m-%d\"):  # check if habit is already completed today\n",
    "                raise ValueError('The habit is already completed today')\n",
    "\n",
    "        self.check_duration()\n",
    "        self.last_completion_date = datetime.strptime(datetime.now().strftime(\"%Y-%m-%d %H:%M\"), \"%Y-%m-%d %H:%M\")\n",
    "        self.save_to_db()\n",
    "\n",
    "    def save_to_db(self):\n",
    "        \"\"\" save changes to database \"\"\"\n",
    "        try:\n",
    "            conn = connect_db()\n",
    "            cur = conn.cursor()\n",
    "            habit_data = [\n",
    "                (self.habits_id, self.habit, self.description, self.period, self.duration, self.created, self.closed,\n",
    "                 self.last_completion_date, self.is_template)\n",
    "            ]\n",
    "            cur.executemany(\"\"\"INSERT INTO habits  VALUES (?,?,?,?,?,?,?,?,?)\"\"\", habit_data)\n",
    "        except ConnectionError as ex:\n",
    "            print(ex)\n",
    "\n",
    "        try:\n",
    "            conn.commit()\n",
    "            # close connection\n",
    "            conn.close()\n",
    "        except ConnectionError as ex:\n",
    "            print(ex)\n",
    "        print(f'Habit {self.habit} has been saved to the database.')\n"
   ],
   "metadata": {
    "collapsed": false
   }
  },
  {
   "cell_type": "code",
   "execution_count": 13,
   "outputs": [],
   "source": [
    "h = Habit.get_instance(3)"
   ],
   "metadata": {
    "collapsed": false
   }
  },
  {
   "cell_type": "code",
   "execution_count": 14,
   "outputs": [
    {
     "name": "stdout",
     "output_type": "stream",
     "text": [
      "You have 44 days left to complete the task\n"
     ]
    },
    {
     "data": {
      "text/plain": "16"
     },
     "execution_count": 14,
     "metadata": {},
     "output_type": "execute_result"
    }
   ],
   "source": [
    "h.check_duration()"
   ],
   "metadata": {
    "collapsed": false
   }
  },
  {
   "cell_type": "code",
   "execution_count": 15,
   "outputs": [
    {
     "data": {
      "text/plain": "60"
     },
     "execution_count": 15,
     "metadata": {},
     "output_type": "execute_result"
    }
   ],
   "source": [
    "h.duration"
   ],
   "metadata": {
    "collapsed": false
   }
  },
  {
   "cell_type": "code",
   "execution_count": 16,
   "outputs": [
    {
     "ename": "ValueError",
     "evalue": "The habit is already completed today",
     "output_type": "error",
     "traceback": [
      "\u001B[1;31m---------------------------------------------------------------------------\u001B[0m",
      "\u001B[1;31mValueError\u001B[0m                                Traceback (most recent call last)",
      "Cell \u001B[1;32mIn [16], line 1\u001B[0m\n\u001B[1;32m----> 1\u001B[0m \u001B[43mh\u001B[49m\u001B[38;5;241;43m.\u001B[39;49m\u001B[43mcomplete_today\u001B[49m\u001B[43m(\u001B[49m\u001B[43m)\u001B[49m\n",
      "Cell \u001B[1;32mIn [12], line 132\u001B[0m, in \u001B[0;36mHabit.complete_today\u001B[1;34m(self)\u001B[0m\n\u001B[0;32m    130\u001B[0m \u001B[38;5;28;01mif\u001B[39;00m \u001B[38;5;28mself\u001B[39m\u001B[38;5;241m.\u001B[39mlast_completion_date \u001B[38;5;129;01mis\u001B[39;00m \u001B[38;5;129;01mnot\u001B[39;00m \u001B[38;5;28;01mNone\u001B[39;00m:\n\u001B[0;32m    131\u001B[0m     \u001B[38;5;28;01mif\u001B[39;00m \u001B[38;5;28mself\u001B[39m\u001B[38;5;241m.\u001B[39mlast_completion_date[\u001B[38;5;241m0\u001B[39m: \u001B[38;5;241m10\u001B[39m] \u001B[38;5;241m==\u001B[39m datetime\u001B[38;5;241m.\u001B[39mnow()\u001B[38;5;241m.\u001B[39mstrftime(\u001B[38;5;124m\"\u001B[39m\u001B[38;5;124m%\u001B[39m\u001B[38;5;124mY-\u001B[39m\u001B[38;5;124m%\u001B[39m\u001B[38;5;124mm-\u001B[39m\u001B[38;5;132;01m%d\u001B[39;00m\u001B[38;5;124m\"\u001B[39m):  \u001B[38;5;66;03m# check if habit is already completed today\u001B[39;00m\n\u001B[1;32m--> 132\u001B[0m         \u001B[38;5;28;01mraise\u001B[39;00m \u001B[38;5;167;01mValueError\u001B[39;00m(\u001B[38;5;124m'\u001B[39m\u001B[38;5;124mThe habit is already completed today\u001B[39m\u001B[38;5;124m'\u001B[39m)\n\u001B[0;32m    134\u001B[0m \u001B[38;5;28mself\u001B[39m\u001B[38;5;241m.\u001B[39mcheck_duration()\n\u001B[0;32m    135\u001B[0m \u001B[38;5;28mself\u001B[39m\u001B[38;5;241m.\u001B[39mlast_completion_date \u001B[38;5;241m=\u001B[39m datetime\u001B[38;5;241m.\u001B[39mstrptime(datetime\u001B[38;5;241m.\u001B[39mnow()\u001B[38;5;241m.\u001B[39mstrftime(\u001B[38;5;124m\"\u001B[39m\u001B[38;5;124m%\u001B[39m\u001B[38;5;124mY-\u001B[39m\u001B[38;5;124m%\u001B[39m\u001B[38;5;124mm-\u001B[39m\u001B[38;5;132;01m%d\u001B[39;00m\u001B[38;5;124m \u001B[39m\u001B[38;5;124m%\u001B[39m\u001B[38;5;124mH:\u001B[39m\u001B[38;5;124m%\u001B[39m\u001B[38;5;124mM\u001B[39m\u001B[38;5;124m\"\u001B[39m), \u001B[38;5;124m\"\u001B[39m\u001B[38;5;124m%\u001B[39m\u001B[38;5;124mY-\u001B[39m\u001B[38;5;124m%\u001B[39m\u001B[38;5;124mm-\u001B[39m\u001B[38;5;132;01m%d\u001B[39;00m\u001B[38;5;124m \u001B[39m\u001B[38;5;124m%\u001B[39m\u001B[38;5;124mH:\u001B[39m\u001B[38;5;124m%\u001B[39m\u001B[38;5;124mM\u001B[39m\u001B[38;5;124m\"\u001B[39m)\n",
      "\u001B[1;31mValueError\u001B[0m: The habit is already completed today"
     ]
    }
   ],
   "source": [
    "h.complete_today()"
   ],
   "metadata": {
    "collapsed": false
   }
  },
  {
   "cell_type": "code",
   "execution_count": 19,
   "outputs": [],
   "source": [
    "h2 = Habit.get_instance(2)"
   ],
   "metadata": {
    "collapsed": false
   }
  },
  {
   "cell_type": "code",
   "execution_count": 20,
   "outputs": [
    {
     "name": "stdout",
     "output_type": "stream",
     "text": [
      "You have 14 days left to complete the task\n"
     ]
    },
    {
     "data": {
      "text/plain": "16"
     },
     "execution_count": 20,
     "metadata": {},
     "output_type": "execute_result"
    }
   ],
   "source": [
    "h2.check_duration()"
   ],
   "metadata": {
    "collapsed": false
   }
  },
  {
   "cell_type": "code",
   "execution_count": 1,
   "outputs": [],
   "source": [
    "from datetime import datetime\n",
    "\n",
    "import click\n",
    "import sqlite3\n",
    "\n",
    "from tabulate import tabulate\n",
    "\n",
    "from src.habit import connect_db\n",
    "\n",
    "\n",
    "def get_cursor():\n",
    "    \"\"\"\n",
    "    Get a cursor to the database\n",
    "    :return: cursor\n",
    "    \"\"\"\n",
    "    try:\n",
    "        conn = connect_db()\n",
    "        c = conn.cursor()\n",
    "    except ConnectionError as ex:\n",
    "        print(ex)\n",
    "    return c\n",
    "\n",
    "\n",
    "@click.group(name=\"analytics\")\n",
    "def analytic_group():\n",
    "    \"\"\" Commands for your analysis\"\"\"\n",
    "\n",
    "\n",
    "@click.command(name='all-habits')\n",
    "def show_all_habits():\n",
    "    \"\"\"list all habits\"\"\"\n",
    "\n",
    "    # define output format\n",
    "    table_format = 'fancy_outline'\n",
    "    first_row = ['id', 'name', 'description', 'period', 'duration in days']\n",
    "    try:\n",
    "        cur = get_cursor()\n",
    "        rs = cur.execute(\n",
    "            \"\"\" SELECT DISTINCT h.habits_id,h.name,h.description,p.name,h.duration FROM habits as h\n",
    "            INNER JOIN periods as p ON h.periods_fk = p.periods_id  WHERE closed == FALSE ORDER BY habits_id ASC \"\"\")\n",
    "    except ConnectionError as ex:\n",
    "        print(ex)\n",
    "\n",
    "    rows = list(rs.fetchall())\n",
    "    print(tabulate(rows, headers=first_row, tablefmt=table_format))\n",
    "\n",
    "\n",
    "@click.command(name='list-all-activities')\n",
    "def show_all_activities():\n",
    "    \"\"\"list all activities for all habit\"\"\"\n",
    "\n",
    "    # define output format\n",
    "    table_format = 'fancy_outline'\n",
    "    first_row = ['id', 'name', 'description', 'period', 'duration in days', 'last completion date']\n",
    "    try:\n",
    "        cur = get_cursor()\n",
    "        rs = cur.execute(\n",
    "            \"\"\" SELECT  h.habits_id,h.name,h.description,p.name,h.duration, h.last_completion_date FROM habits as h\n",
    "            INNER JOIN periods as p ON h.periods_fk = p.periods_id  WHERE closed == FALSE ORDER BY habits_id ASC, last_completion_date DESC \"\"\")\n",
    "\n",
    "    except ConnectionError as ex:\n",
    "        print(ex)\n",
    "\n",
    "    rows = list(rs.fetchall())\n",
    "    print(tabulate(rows, headers=first_row, tablefmt=table_format))\n",
    "\n",
    "\n",
    "@click.command(name='streak-all')\n",
    "def longest_streak_all():\n",
    "    \"\"\"show longest streak of all habits\"\"\"\n",
    "\n",
    "    # define output format\n",
    "    dateformat = \"%Y-%m-%d %H:%M:%S\"\n",
    "    streak = 1\n",
    "    longest = 1\n",
    "    h_name = None\n",
    "    max_habit = None\n",
    "    try:\n",
    "        cur = get_cursor()\n",
    "        rs = cur.execute(\n",
    "            \"\"\" SELECT habits_id, name,periods_fk, last_completion_date FROM habits WHERE last_completion_date not null ORDER BY habits_id ASC \"\"\")\n",
    "        rows = rs.fetchall()\n",
    "    except sqlite3.Error as ex:\n",
    "        print(ex)\n",
    "\n",
    "    for row in rows:\n",
    "        # helping variables\n",
    "        first_compl = row[3]\n",
    "        habit_name = row[1]\n",
    "        period = row[2]\n",
    "        if habit_name != h_name:  # if new habit\n",
    "            streak = 0\n",
    "        if streak > longest:  # if new longest streak\n",
    "            longest = streak\n",
    "            max_habit = h_name\n",
    "        match period:\n",
    "            case 1:  # daily\n",
    "                first = datetime.strptime(first_compl, dateformat)\n",
    "                current = datetime.strptime(row[3], dateformat)\n",
    "                delta = current - first\n",
    "                h_name = habit_name\n",
    "                if delta.days <= 1:\n",
    "                    streak += 1\n",
    "                else:\n",
    "                    streak = 0\n",
    "                    continue\n",
    "            case 2:  # weekly\n",
    "                first = datetime.strptime(first_compl, dateformat)\n",
    "                current = datetime.strptime(row[3], dateformat)\n",
    "                delta = current - first\n",
    "                h_name = habit_name\n",
    "                if delta.days <= 7:\n",
    "                    streak += 1\n",
    "                else:\n",
    "                    streak = 0\n",
    "                    continue\n",
    "            case 3:  # monthly\n",
    "                first = datetime.strptime(first_compl, dateformat)\n",
    "                current = datetime.strptime(row[3], dateformat)\n",
    "                delta = current - first\n",
    "                h_name = habit_name\n",
    "                if delta.days <= 30:\n",
    "                    streak += 1\n",
    "                else:\n",
    "                    streak = 0\n",
    "                    continue\n",
    "            case 4:  # yearly\n",
    "                first = datetime.strptime(first_compl, dateformat)\n",
    "                current = datetime.strptime(row[3], dateformat)\n",
    "                delta = current - first\n",
    "                h_name = habit_name\n",
    "                if delta.days <= 365:\n",
    "                    streak += 1\n",
    "                else:\n",
    "                    streak = 0\n",
    "                    continue\n",
    "\n",
    "    # Output\n",
    "    print(f'The longest streak is for your habit {max_habit} with {longest} times')\n",
    "\n",
    "\n",
    "@click.command(name='streak')\n",
    "@click.argument('habit_id', type=click.IntRange(1))\n",
    "def longest_streak_habit(habit_id):\n",
    "    \"\"\"display longest streak of a habit\"\"\"\n",
    "\n",
    "    # define output format\n",
    "    dateformat = \"%Y-%m-%d %H:%M:%S\"\n",
    "    streak = 1\n",
    "    longest = 1\n",
    "    try:\n",
    "        # database connection\n",
    "        cur = get_cursor()\n",
    "        rs = cur.execute(\n",
    "            \"\"\" SELECT habits_id, name,periods_fk, last_completion_date FROM habits WHERE habits_id = ? AND last_completion_date not null  \"\"\",\n",
    "            str(habit_id))\n",
    "        rows = rs.fetchall()\n",
    "    except sqlite3.Error as ex:\n",
    "        print(ex)\n",
    "    data = rows[0]  # get first row\n",
    "    period = data[2]\n",
    "    first_compl = data[3]\n",
    "    habit_name = data[1]\n",
    "\n",
    "    for row in rows:  # loop through all rows\n",
    "        if streak > longest:\n",
    "            longest = streak\n",
    "        match period:  # check period\n",
    "            case 1:  # daily\n",
    "                first = datetime.strptime(first_compl, dateformat)\n",
    "                current = datetime.strptime(row[3], dateformat)\n",
    "                delta = current - first\n",
    "                if delta.days <= 1:\n",
    "                    streak += 1\n",
    "                else:\n",
    "                    streak = 0\n",
    "                    continue\n",
    "            case 2:  # weekly\n",
    "                first = datetime.strptime(first_compl, dateformat)\n",
    "                current = datetime.strptime(row[3], dateformat)\n",
    "                delta = current - first\n",
    "                if delta.days <= 7:\n",
    "                    streak += 1\n",
    "                else:\n",
    "                    streak = 0\n",
    "                    continue\n",
    "            case 3:  # monthly\n",
    "                first = datetime.strptime(first_compl, dateformat)\n",
    "                current = datetime.strptime(row[3], dateformat)\n",
    "                delta = current - first\n",
    "                if delta.days <= 30:\n",
    "                    streak += 1\n",
    "                else:\n",
    "                    streak = 0\n",
    "                    continue\n",
    "            case 4:  # yearly\n",
    "                first = datetime.strptime(first_compl, dateformat)\n",
    "                current = datetime.strptime(row[3], dateformat)\n",
    "                delta = current - first\n",
    "                if delta.days <= 365:\n",
    "                    streak += 1\n",
    "                else:\n",
    "                    streak = 0\n",
    "                    continue\n",
    "    # Output\n",
    "    print(f'The longest streak for your habit {habit_name} is {longest} times')\n",
    "\n",
    "\n",
    "@click.command(name='periodicy')\n",
    "@click.argument(\"period\", type=click.IntRange(1, 4))\n",
    "def same_periodicy(period):\n",
    "    \"\"\"list all habits with the same periodicy\"\"\"\n",
    "\n",
    "    # define output format\n",
    "    table_format = 'fancy_outline'\n",
    "    first_row = ['id', 'name', 'description', 'period', 'duration']\n",
    "    try:\n",
    "        cur = get_cursor()\n",
    "        rs = cur.execute(\"\"\" SELECT DISTINCT habits_id,name,description,periods_fk,duration FROM habits\n",
    "        WHERE periods_fk = ?\"\"\", str(period))\n",
    "    except ConnectionError as ex:\n",
    "        print(ex)\n",
    "\n",
    "    rows = list(rs.fetchall())\n",
    "    print(tabulate(rows, headers=first_row, tablefmt=table_format))\n",
    "\n",
    "\n",
    "# define the group for click commands\n",
    "\n",
    "analytic_group.add_command(show_all_habits)\n",
    "analytic_group.add_command(show_all_activities)\n",
    "analytic_group.add_command(longest_streak_all)\n",
    "analytic_group.add_command(longest_streak_habit)\n",
    "analytic_group.add_command(same_periodicy)\n"
   ],
   "metadata": {
    "collapsed": false
   }
  },
  {
   "cell_type": "code",
   "execution_count": 5,
   "outputs": [
    {
     "ename": "TypeError",
     "evalue": "'int' object is not iterable",
     "output_type": "error",
     "traceback": [
      "\u001B[1;31m---------------------------------------------------------------------------\u001B[0m",
      "\u001B[1;31mTypeError\u001B[0m                                 Traceback (most recent call last)",
      "Cell \u001B[1;32mIn [5], line 1\u001B[0m\n\u001B[1;32m----> 1\u001B[0m \u001B[43msame_periodicy\u001B[49m\u001B[43m(\u001B[49m\u001B[38;5;241;43m1\u001B[39;49m\u001B[43m)\u001B[49m\n",
      "File \u001B[1;32m~\\PycharmProjects\\HabitTrackerIU\\venv\\lib\\site-packages\\click\\core.py:1130\u001B[0m, in \u001B[0;36mBaseCommand.__call__\u001B[1;34m(self, *args, **kwargs)\u001B[0m\n\u001B[0;32m   1128\u001B[0m \u001B[38;5;28;01mdef\u001B[39;00m \u001B[38;5;21m__call__\u001B[39m(\u001B[38;5;28mself\u001B[39m, \u001B[38;5;241m*\u001B[39margs: t\u001B[38;5;241m.\u001B[39mAny, \u001B[38;5;241m*\u001B[39m\u001B[38;5;241m*\u001B[39mkwargs: t\u001B[38;5;241m.\u001B[39mAny) \u001B[38;5;241m-\u001B[39m\u001B[38;5;241m>\u001B[39m t\u001B[38;5;241m.\u001B[39mAny:\n\u001B[0;32m   1129\u001B[0m     \u001B[38;5;124;03m\"\"\"Alias for :meth:`main`.\"\"\"\u001B[39;00m\n\u001B[1;32m-> 1130\u001B[0m     \u001B[38;5;28;01mreturn\u001B[39;00m \u001B[38;5;28mself\u001B[39m\u001B[38;5;241m.\u001B[39mmain(\u001B[38;5;241m*\u001B[39margs, \u001B[38;5;241m*\u001B[39m\u001B[38;5;241m*\u001B[39mkwargs)\n",
      "File \u001B[1;32m~\\PycharmProjects\\HabitTrackerIU\\venv\\lib\\site-packages\\click\\core.py:1044\u001B[0m, in \u001B[0;36mBaseCommand.main\u001B[1;34m(self, args, prog_name, complete_var, standalone_mode, windows_expand_args, **extra)\u001B[0m\n\u001B[0;32m   1042\u001B[0m         args \u001B[38;5;241m=\u001B[39m _expand_args(args)\n\u001B[0;32m   1043\u001B[0m \u001B[38;5;28;01melse\u001B[39;00m:\n\u001B[1;32m-> 1044\u001B[0m     args \u001B[38;5;241m=\u001B[39m \u001B[38;5;28;43mlist\u001B[39;49m\u001B[43m(\u001B[49m\u001B[43margs\u001B[49m\u001B[43m)\u001B[49m\n\u001B[0;32m   1046\u001B[0m \u001B[38;5;28;01mif\u001B[39;00m prog_name \u001B[38;5;129;01mis\u001B[39;00m \u001B[38;5;28;01mNone\u001B[39;00m:\n\u001B[0;32m   1047\u001B[0m     prog_name \u001B[38;5;241m=\u001B[39m _detect_program_name()\n",
      "\u001B[1;31mTypeError\u001B[0m: 'int' object is not iterable"
     ]
    }
   ],
   "source": [
    "same_periodicy(1)"
   ],
   "metadata": {
    "collapsed": false
   }
  },
  {
   "cell_type": "code",
   "execution_count": 7,
   "outputs": [
    {
     "name": "stdout",
     "output_type": "stream",
     "text": [
      "The longest streak for your habit Coffee is 4 times\n"
     ]
    },
    {
     "ename": "AssertionError",
     "evalue": "",
     "output_type": "error",
     "traceback": [
      "\u001B[1;31m---------------------------------------------------------------------------\u001B[0m",
      "\u001B[1;31mExit\u001B[0m                                      Traceback (most recent call last)",
      "File \u001B[1;32m~\\PycharmProjects\\HabitTrackerIU\\venv\\lib\\site-packages\\click\\core.py:1065\u001B[0m, in \u001B[0;36mBaseCommand.main\u001B[1;34m(self, args, prog_name, complete_var, standalone_mode, windows_expand_args, **extra)\u001B[0m\n\u001B[0;32m   1058\u001B[0m         \u001B[38;5;66;03m# it's not safe to `ctx.exit(rv)` here!\u001B[39;00m\n\u001B[0;32m   1059\u001B[0m         \u001B[38;5;66;03m# note that `rv` may actually contain data like \"1\" which\u001B[39;00m\n\u001B[0;32m   1060\u001B[0m         \u001B[38;5;66;03m# has obvious effects\u001B[39;00m\n\u001B[1;32m   (...)\u001B[0m\n\u001B[0;32m   1063\u001B[0m         \u001B[38;5;66;03m# even always obvious that `rv` indicates success/failure\u001B[39;00m\n\u001B[0;32m   1064\u001B[0m         \u001B[38;5;66;03m# by its truthiness/falsiness\u001B[39;00m\n\u001B[1;32m-> 1065\u001B[0m         \u001B[43mctx\u001B[49m\u001B[38;5;241;43m.\u001B[39;49m\u001B[43mexit\u001B[49m\u001B[43m(\u001B[49m\u001B[43m)\u001B[49m\n\u001B[0;32m   1066\u001B[0m \u001B[38;5;28;01mexcept\u001B[39;00m (\u001B[38;5;167;01mEOFError\u001B[39;00m, \u001B[38;5;167;01mKeyboardInterrupt\u001B[39;00m):\n",
      "File \u001B[1;32m~\\PycharmProjects\\HabitTrackerIU\\venv\\lib\\site-packages\\click\\core.py:687\u001B[0m, in \u001B[0;36mContext.exit\u001B[1;34m(self, code)\u001B[0m\n\u001B[0;32m    686\u001B[0m \u001B[38;5;124;03m\"\"\"Exits the application with a given exit code.\"\"\"\u001B[39;00m\n\u001B[1;32m--> 687\u001B[0m \u001B[38;5;28;01mraise\u001B[39;00m Exit(code)\n",
      "\u001B[1;31mExit\u001B[0m: 0",
      "\nDuring handling of the above exception, another exception occurred:\n",
      "\u001B[1;31mSystemExit\u001B[0m                                Traceback (most recent call last)",
      "    \u001B[1;31m[... skipping hidden 1 frame]\u001B[0m\n",
      "Cell \u001B[1;32mIn [7], line 1\u001B[0m\n\u001B[1;32m----> 1\u001B[0m \u001B[43mlongest_streak_habit\u001B[49m\u001B[43m(\u001B[49m\u001B[38;5;124;43m'\u001B[39;49m\u001B[38;5;124;43m3\u001B[39;49m\u001B[38;5;124;43m'\u001B[39;49m\u001B[43m)\u001B[49m\n",
      "File \u001B[1;32m~\\PycharmProjects\\HabitTrackerIU\\venv\\lib\\site-packages\\click\\core.py:1130\u001B[0m, in \u001B[0;36mBaseCommand.__call__\u001B[1;34m(self, *args, **kwargs)\u001B[0m\n\u001B[0;32m   1129\u001B[0m \u001B[38;5;124;03m\"\"\"Alias for :meth:`main`.\"\"\"\u001B[39;00m\n\u001B[1;32m-> 1130\u001B[0m \u001B[38;5;28;01mreturn\u001B[39;00m \u001B[38;5;28mself\u001B[39m\u001B[38;5;241m.\u001B[39mmain(\u001B[38;5;241m*\u001B[39margs, \u001B[38;5;241m*\u001B[39m\u001B[38;5;241m*\u001B[39mkwargs)\n",
      "File \u001B[1;32m~\\PycharmProjects\\HabitTrackerIU\\venv\\lib\\site-packages\\click\\core.py:1083\u001B[0m, in \u001B[0;36mBaseCommand.main\u001B[1;34m(self, args, prog_name, complete_var, standalone_mode, windows_expand_args, **extra)\u001B[0m\n\u001B[0;32m   1082\u001B[0m \u001B[38;5;28;01mif\u001B[39;00m standalone_mode:\n\u001B[1;32m-> 1083\u001B[0m     \u001B[43msys\u001B[49m\u001B[38;5;241;43m.\u001B[39;49m\u001B[43mexit\u001B[49m\u001B[43m(\u001B[49m\u001B[43me\u001B[49m\u001B[38;5;241;43m.\u001B[39;49m\u001B[43mexit_code\u001B[49m\u001B[43m)\u001B[49m\n\u001B[0;32m   1084\u001B[0m \u001B[38;5;28;01melse\u001B[39;00m:\n\u001B[0;32m   1085\u001B[0m     \u001B[38;5;66;03m# in non-standalone mode, return the exit code\u001B[39;00m\n\u001B[0;32m   1086\u001B[0m     \u001B[38;5;66;03m# note that this is only reached if `self.invoke` above raises\u001B[39;00m\n\u001B[1;32m   (...)\u001B[0m\n\u001B[0;32m   1091\u001B[0m     \u001B[38;5;66;03m# `ctx.exit(1)` and to `return 1`, the caller won't be able to\u001B[39;00m\n\u001B[0;32m   1092\u001B[0m     \u001B[38;5;66;03m# tell the difference between the two\u001B[39;00m\n",
      "\u001B[1;31mSystemExit\u001B[0m: 0",
      "\nDuring handling of the above exception, another exception occurred:\n",
      "\u001B[1;31mAssertionError\u001B[0m                            Traceback (most recent call last)",
      "    \u001B[1;31m[... skipping hidden 1 frame]\u001B[0m\n",
      "File \u001B[1;32m~\\PycharmProjects\\HabitTrackerIU\\venv\\lib\\site-packages\\IPython\\core\\interactiveshell.py:2042\u001B[0m, in \u001B[0;36mInteractiveShell.showtraceback\u001B[1;34m(self, exc_tuple, filename, tb_offset, exception_only, running_compiled_code)\u001B[0m\n\u001B[0;32m   2039\u001B[0m \u001B[38;5;28;01mif\u001B[39;00m exception_only:\n\u001B[0;32m   2040\u001B[0m     stb \u001B[38;5;241m=\u001B[39m [\u001B[38;5;124m'\u001B[39m\u001B[38;5;124mAn exception has occurred, use \u001B[39m\u001B[38;5;124m%\u001B[39m\u001B[38;5;124mtb to see \u001B[39m\u001B[38;5;124m'\u001B[39m\n\u001B[0;32m   2041\u001B[0m            \u001B[38;5;124m'\u001B[39m\u001B[38;5;124mthe full traceback.\u001B[39m\u001B[38;5;130;01m\\n\u001B[39;00m\u001B[38;5;124m'\u001B[39m]\n\u001B[1;32m-> 2042\u001B[0m     stb\u001B[38;5;241m.\u001B[39mextend(\u001B[38;5;28;43mself\u001B[39;49m\u001B[38;5;241;43m.\u001B[39;49m\u001B[43mInteractiveTB\u001B[49m\u001B[38;5;241;43m.\u001B[39;49m\u001B[43mget_exception_only\u001B[49m\u001B[43m(\u001B[49m\u001B[43metype\u001B[49m\u001B[43m,\u001B[49m\n\u001B[0;32m   2043\u001B[0m \u001B[43m                                                     \u001B[49m\u001B[43mvalue\u001B[49m\u001B[43m)\u001B[49m)\n\u001B[0;32m   2044\u001B[0m \u001B[38;5;28;01melse\u001B[39;00m:\n\u001B[0;32m   2045\u001B[0m     \u001B[38;5;28;01mtry\u001B[39;00m:\n\u001B[0;32m   2046\u001B[0m         \u001B[38;5;66;03m# Exception classes can customise their traceback - we\u001B[39;00m\n\u001B[0;32m   2047\u001B[0m         \u001B[38;5;66;03m# use this in IPython.parallel for exceptions occurring\u001B[39;00m\n\u001B[0;32m   2048\u001B[0m         \u001B[38;5;66;03m# in the engines. This should return a list of strings.\u001B[39;00m\n",
      "File \u001B[1;32m~\\PycharmProjects\\HabitTrackerIU\\venv\\lib\\site-packages\\IPython\\core\\ultratb.py:579\u001B[0m, in \u001B[0;36mListTB.get_exception_only\u001B[1;34m(self, etype, value)\u001B[0m\n\u001B[0;32m    571\u001B[0m \u001B[38;5;28;01mdef\u001B[39;00m \u001B[38;5;21mget_exception_only\u001B[39m(\u001B[38;5;28mself\u001B[39m, etype, value):\n\u001B[0;32m    572\u001B[0m     \u001B[38;5;124;03m\"\"\"Only print the exception type and message, without a traceback.\u001B[39;00m\n\u001B[0;32m    573\u001B[0m \n\u001B[0;32m    574\u001B[0m \u001B[38;5;124;03m    Parameters\u001B[39;00m\n\u001B[1;32m   (...)\u001B[0m\n\u001B[0;32m    577\u001B[0m \u001B[38;5;124;03m    value : exception value\u001B[39;00m\n\u001B[0;32m    578\u001B[0m \u001B[38;5;124;03m    \"\"\"\u001B[39;00m\n\u001B[1;32m--> 579\u001B[0m     \u001B[38;5;28;01mreturn\u001B[39;00m \u001B[43mListTB\u001B[49m\u001B[38;5;241;43m.\u001B[39;49m\u001B[43mstructured_traceback\u001B[49m\u001B[43m(\u001B[49m\u001B[38;5;28;43mself\u001B[39;49m\u001B[43m,\u001B[49m\u001B[43m \u001B[49m\u001B[43metype\u001B[49m\u001B[43m,\u001B[49m\u001B[43m \u001B[49m\u001B[43mvalue\u001B[49m\u001B[43m)\u001B[49m\n",
      "File \u001B[1;32m~\\PycharmProjects\\HabitTrackerIU\\venv\\lib\\site-packages\\IPython\\core\\ultratb.py:446\u001B[0m, in \u001B[0;36mListTB.structured_traceback\u001B[1;34m(self, etype, evalue, etb, tb_offset, context)\u001B[0m\n\u001B[0;32m    443\u001B[0m     chained_exc_ids\u001B[38;5;241m.\u001B[39madd(\u001B[38;5;28mid\u001B[39m(exception[\u001B[38;5;241m1\u001B[39m]))\n\u001B[0;32m    444\u001B[0m     chained_exceptions_tb_offset \u001B[38;5;241m=\u001B[39m \u001B[38;5;241m0\u001B[39m\n\u001B[0;32m    445\u001B[0m     out_list \u001B[38;5;241m=\u001B[39m (\n\u001B[1;32m--> 446\u001B[0m         \u001B[38;5;28;43mself\u001B[39;49m\u001B[38;5;241;43m.\u001B[39;49m\u001B[43mstructured_traceback\u001B[49m\u001B[43m(\u001B[49m\n\u001B[0;32m    447\u001B[0m \u001B[43m            \u001B[49m\u001B[43metype\u001B[49m\u001B[43m,\u001B[49m\u001B[43m \u001B[49m\u001B[43mevalue\u001B[49m\u001B[43m,\u001B[49m\u001B[43m \u001B[49m\u001B[43m(\u001B[49m\u001B[43metb\u001B[49m\u001B[43m,\u001B[49m\u001B[43m \u001B[49m\u001B[43mchained_exc_ids\u001B[49m\u001B[43m)\u001B[49m\u001B[43m,\u001B[49m\n\u001B[0;32m    448\u001B[0m \u001B[43m            \u001B[49m\u001B[43mchained_exceptions_tb_offset\u001B[49m\u001B[43m,\u001B[49m\u001B[43m \u001B[49m\u001B[43mcontext\u001B[49m\u001B[43m)\u001B[49m\n\u001B[0;32m    449\u001B[0m         \u001B[38;5;241m+\u001B[39m chained_exception_message\n\u001B[0;32m    450\u001B[0m         \u001B[38;5;241m+\u001B[39m out_list)\n\u001B[0;32m    452\u001B[0m \u001B[38;5;28;01mreturn\u001B[39;00m out_list\n",
      "File \u001B[1;32m~\\PycharmProjects\\HabitTrackerIU\\venv\\lib\\site-packages\\IPython\\core\\ultratb.py:1112\u001B[0m, in \u001B[0;36mAutoFormattedTB.structured_traceback\u001B[1;34m(self, etype, value, tb, tb_offset, number_of_lines_of_context)\u001B[0m\n\u001B[0;32m   1110\u001B[0m \u001B[38;5;28;01melse\u001B[39;00m:\n\u001B[0;32m   1111\u001B[0m     \u001B[38;5;28mself\u001B[39m\u001B[38;5;241m.\u001B[39mtb \u001B[38;5;241m=\u001B[39m tb\n\u001B[1;32m-> 1112\u001B[0m \u001B[38;5;28;01mreturn\u001B[39;00m \u001B[43mFormattedTB\u001B[49m\u001B[38;5;241;43m.\u001B[39;49m\u001B[43mstructured_traceback\u001B[49m\u001B[43m(\u001B[49m\n\u001B[0;32m   1113\u001B[0m \u001B[43m    \u001B[49m\u001B[38;5;28;43mself\u001B[39;49m\u001B[43m,\u001B[49m\u001B[43m \u001B[49m\u001B[43metype\u001B[49m\u001B[43m,\u001B[49m\u001B[43m \u001B[49m\u001B[43mvalue\u001B[49m\u001B[43m,\u001B[49m\u001B[43m \u001B[49m\u001B[43mtb\u001B[49m\u001B[43m,\u001B[49m\u001B[43m \u001B[49m\u001B[43mtb_offset\u001B[49m\u001B[43m,\u001B[49m\u001B[43m \u001B[49m\u001B[43mnumber_of_lines_of_context\u001B[49m\u001B[43m)\u001B[49m\n",
      "File \u001B[1;32m~\\PycharmProjects\\HabitTrackerIU\\venv\\lib\\site-packages\\IPython\\core\\ultratb.py:1006\u001B[0m, in \u001B[0;36mFormattedTB.structured_traceback\u001B[1;34m(self, etype, value, tb, tb_offset, number_of_lines_of_context)\u001B[0m\n\u001B[0;32m   1003\u001B[0m mode \u001B[38;5;241m=\u001B[39m \u001B[38;5;28mself\u001B[39m\u001B[38;5;241m.\u001B[39mmode\n\u001B[0;32m   1004\u001B[0m \u001B[38;5;28;01mif\u001B[39;00m mode \u001B[38;5;129;01min\u001B[39;00m \u001B[38;5;28mself\u001B[39m\u001B[38;5;241m.\u001B[39mverbose_modes:\n\u001B[0;32m   1005\u001B[0m     \u001B[38;5;66;03m# Verbose modes need a full traceback\u001B[39;00m\n\u001B[1;32m-> 1006\u001B[0m     \u001B[38;5;28;01mreturn\u001B[39;00m \u001B[43mVerboseTB\u001B[49m\u001B[38;5;241;43m.\u001B[39;49m\u001B[43mstructured_traceback\u001B[49m\u001B[43m(\u001B[49m\n\u001B[0;32m   1007\u001B[0m \u001B[43m        \u001B[49m\u001B[38;5;28;43mself\u001B[39;49m\u001B[43m,\u001B[49m\u001B[43m \u001B[49m\u001B[43metype\u001B[49m\u001B[43m,\u001B[49m\u001B[43m \u001B[49m\u001B[43mvalue\u001B[49m\u001B[43m,\u001B[49m\u001B[43m \u001B[49m\u001B[43mtb\u001B[49m\u001B[43m,\u001B[49m\u001B[43m \u001B[49m\u001B[43mtb_offset\u001B[49m\u001B[43m,\u001B[49m\u001B[43m \u001B[49m\u001B[43mnumber_of_lines_of_context\u001B[49m\n\u001B[0;32m   1008\u001B[0m \u001B[43m    \u001B[49m\u001B[43m)\u001B[49m\n\u001B[0;32m   1009\u001B[0m \u001B[38;5;28;01melif\u001B[39;00m mode \u001B[38;5;241m==\u001B[39m \u001B[38;5;124m'\u001B[39m\u001B[38;5;124mMinimal\u001B[39m\u001B[38;5;124m'\u001B[39m:\n\u001B[0;32m   1010\u001B[0m     \u001B[38;5;28;01mreturn\u001B[39;00m ListTB\u001B[38;5;241m.\u001B[39mget_exception_only(\u001B[38;5;28mself\u001B[39m, etype, value)\n",
      "File \u001B[1;32m~\\PycharmProjects\\HabitTrackerIU\\venv\\lib\\site-packages\\IPython\\core\\ultratb.py:859\u001B[0m, in \u001B[0;36mVerboseTB.structured_traceback\u001B[1;34m(self, etype, evalue, etb, tb_offset, number_of_lines_of_context)\u001B[0m\n\u001B[0;32m    850\u001B[0m \u001B[38;5;28;01mdef\u001B[39;00m \u001B[38;5;21mstructured_traceback\u001B[39m(\n\u001B[0;32m    851\u001B[0m     \u001B[38;5;28mself\u001B[39m,\n\u001B[0;32m    852\u001B[0m     etype: \u001B[38;5;28mtype\u001B[39m,\n\u001B[1;32m   (...)\u001B[0m\n\u001B[0;32m    856\u001B[0m     number_of_lines_of_context: \u001B[38;5;28mint\u001B[39m \u001B[38;5;241m=\u001B[39m \u001B[38;5;241m5\u001B[39m,\n\u001B[0;32m    857\u001B[0m ):\n\u001B[0;32m    858\u001B[0m     \u001B[38;5;124;03m\"\"\"Return a nice text document describing the traceback.\"\"\"\u001B[39;00m\n\u001B[1;32m--> 859\u001B[0m     formatted_exception \u001B[38;5;241m=\u001B[39m \u001B[38;5;28;43mself\u001B[39;49m\u001B[38;5;241;43m.\u001B[39;49m\u001B[43mformat_exception_as_a_whole\u001B[49m\u001B[43m(\u001B[49m\u001B[43metype\u001B[49m\u001B[43m,\u001B[49m\u001B[43m \u001B[49m\u001B[43mevalue\u001B[49m\u001B[43m,\u001B[49m\u001B[43m \u001B[49m\u001B[43metb\u001B[49m\u001B[43m,\u001B[49m\u001B[43m \u001B[49m\u001B[43mnumber_of_lines_of_context\u001B[49m\u001B[43m,\u001B[49m\n\u001B[0;32m    860\u001B[0m \u001B[43m                                                           \u001B[49m\u001B[43mtb_offset\u001B[49m\u001B[43m)\u001B[49m\n\u001B[0;32m    862\u001B[0m     colors \u001B[38;5;241m=\u001B[39m \u001B[38;5;28mself\u001B[39m\u001B[38;5;241m.\u001B[39mColors  \u001B[38;5;66;03m# just a shorthand + quicker name lookup\u001B[39;00m\n\u001B[0;32m    863\u001B[0m     colorsnormal \u001B[38;5;241m=\u001B[39m colors\u001B[38;5;241m.\u001B[39mNormal  \u001B[38;5;66;03m# used a lot\u001B[39;00m\n",
      "File \u001B[1;32m~\\PycharmProjects\\HabitTrackerIU\\venv\\lib\\site-packages\\IPython\\core\\ultratb.py:793\u001B[0m, in \u001B[0;36mVerboseTB.format_exception_as_a_whole\u001B[1;34m(self, etype, evalue, etb, number_of_lines_of_context, tb_offset)\u001B[0m\n\u001B[0;32m    790\u001B[0m \u001B[38;5;28;01massert\u001B[39;00m \u001B[38;5;28misinstance\u001B[39m(tb_offset, \u001B[38;5;28mint\u001B[39m)\n\u001B[0;32m    791\u001B[0m head \u001B[38;5;241m=\u001B[39m \u001B[38;5;28mself\u001B[39m\u001B[38;5;241m.\u001B[39mprepare_header(etype, \u001B[38;5;28mself\u001B[39m\u001B[38;5;241m.\u001B[39mlong_header)\n\u001B[0;32m    792\u001B[0m records \u001B[38;5;241m=\u001B[39m (\n\u001B[1;32m--> 793\u001B[0m     \u001B[38;5;28;43mself\u001B[39;49m\u001B[38;5;241;43m.\u001B[39;49m\u001B[43mget_records\u001B[49m\u001B[43m(\u001B[49m\u001B[43metb\u001B[49m\u001B[43m,\u001B[49m\u001B[43m \u001B[49m\u001B[43mnumber_of_lines_of_context\u001B[49m\u001B[43m,\u001B[49m\u001B[43m \u001B[49m\u001B[43mtb_offset\u001B[49m\u001B[43m)\u001B[49m \u001B[38;5;28;01mif\u001B[39;00m etb \u001B[38;5;28;01melse\u001B[39;00m []\n\u001B[0;32m    794\u001B[0m )\n\u001B[0;32m    796\u001B[0m frames \u001B[38;5;241m=\u001B[39m []\n\u001B[0;32m    797\u001B[0m skipped \u001B[38;5;241m=\u001B[39m \u001B[38;5;241m0\u001B[39m\n",
      "File \u001B[1;32m~\\PycharmProjects\\HabitTrackerIU\\venv\\lib\\site-packages\\IPython\\core\\ultratb.py:848\u001B[0m, in \u001B[0;36mVerboseTB.get_records\u001B[1;34m(self, etb, number_of_lines_of_context, tb_offset)\u001B[0m\n\u001B[0;32m    842\u001B[0m     formatter \u001B[38;5;241m=\u001B[39m \u001B[38;5;28;01mNone\u001B[39;00m\n\u001B[0;32m    843\u001B[0m options \u001B[38;5;241m=\u001B[39m stack_data\u001B[38;5;241m.\u001B[39mOptions(\n\u001B[0;32m    844\u001B[0m     before\u001B[38;5;241m=\u001B[39mbefore,\n\u001B[0;32m    845\u001B[0m     after\u001B[38;5;241m=\u001B[39mafter,\n\u001B[0;32m    846\u001B[0m     pygments_formatter\u001B[38;5;241m=\u001B[39mformatter,\n\u001B[0;32m    847\u001B[0m )\n\u001B[1;32m--> 848\u001B[0m \u001B[38;5;28;01mreturn\u001B[39;00m \u001B[38;5;28;43mlist\u001B[39;49m\u001B[43m(\u001B[49m\u001B[43mstack_data\u001B[49m\u001B[38;5;241;43m.\u001B[39;49m\u001B[43mFrameInfo\u001B[49m\u001B[38;5;241;43m.\u001B[39;49m\u001B[43mstack_data\u001B[49m\u001B[43m(\u001B[49m\u001B[43metb\u001B[49m\u001B[43m,\u001B[49m\u001B[43m \u001B[49m\u001B[43moptions\u001B[49m\u001B[38;5;241;43m=\u001B[39;49m\u001B[43moptions\u001B[49m\u001B[43m)\u001B[49m\u001B[43m)\u001B[49m[tb_offset:]\n",
      "File \u001B[1;32m~\\PycharmProjects\\HabitTrackerIU\\venv\\lib\\site-packages\\stack_data\\core.py:564\u001B[0m, in \u001B[0;36mFrameInfo.stack_data\u001B[1;34m(cls, frame_or_tb, options, collapse_repeated_frames)\u001B[0m\n\u001B[0;32m    548\u001B[0m \u001B[38;5;129m@classmethod\u001B[39m\n\u001B[0;32m    549\u001B[0m \u001B[38;5;28;01mdef\u001B[39;00m \u001B[38;5;21mstack_data\u001B[39m(\n\u001B[0;32m    550\u001B[0m         \u001B[38;5;28mcls\u001B[39m,\n\u001B[1;32m   (...)\u001B[0m\n\u001B[0;32m    554\u001B[0m         collapse_repeated_frames: \u001B[38;5;28mbool\u001B[39m \u001B[38;5;241m=\u001B[39m \u001B[38;5;28;01mTrue\u001B[39;00m\n\u001B[0;32m    555\u001B[0m ) \u001B[38;5;241m-\u001B[39m\u001B[38;5;241m>\u001B[39m Iterator[Union[\u001B[38;5;124m'\u001B[39m\u001B[38;5;124mFrameInfo\u001B[39m\u001B[38;5;124m'\u001B[39m, RepeatedFrames]]:\n\u001B[0;32m    556\u001B[0m     \u001B[38;5;124;03m\"\"\"\u001B[39;00m\n\u001B[0;32m    557\u001B[0m \u001B[38;5;124;03m    An iterator of FrameInfo and RepeatedFrames objects representing\u001B[39;00m\n\u001B[0;32m    558\u001B[0m \u001B[38;5;124;03m    a full traceback or stack. Similar consecutive frames are collapsed into RepeatedFrames\u001B[39;00m\n\u001B[1;32m   (...)\u001B[0m\n\u001B[0;32m    562\u001B[0m \u001B[38;5;124;03m    and optionally an Options object to configure.\u001B[39;00m\n\u001B[0;32m    563\u001B[0m \u001B[38;5;124;03m    \"\"\"\u001B[39;00m\n\u001B[1;32m--> 564\u001B[0m     stack \u001B[38;5;241m=\u001B[39m \u001B[38;5;28;43mlist\u001B[39;49m\u001B[43m(\u001B[49m\u001B[43miter_stack\u001B[49m\u001B[43m(\u001B[49m\u001B[43mframe_or_tb\u001B[49m\u001B[43m)\u001B[49m\u001B[43m)\u001B[49m\n\u001B[0;32m    566\u001B[0m     \u001B[38;5;66;03m# Reverse the stack from a frame so that it's in the same order\u001B[39;00m\n\u001B[0;32m    567\u001B[0m     \u001B[38;5;66;03m# as the order from a traceback, which is the order of a printed\u001B[39;00m\n\u001B[0;32m    568\u001B[0m     \u001B[38;5;66;03m# traceback when read top to bottom (most recent call last)\u001B[39;00m\n\u001B[0;32m    569\u001B[0m     \u001B[38;5;28;01mif\u001B[39;00m is_frame(frame_or_tb):\n",
      "File \u001B[1;32m~\\PycharmProjects\\HabitTrackerIU\\venv\\lib\\site-packages\\stack_data\\utils.py:97\u001B[0m, in \u001B[0;36miter_stack\u001B[1;34m(frame_or_tb)\u001B[0m\n\u001B[0;32m     95\u001B[0m \u001B[38;5;28;01mwhile\u001B[39;00m frame_or_tb:\n\u001B[0;32m     96\u001B[0m     \u001B[38;5;28;01myield\u001B[39;00m frame_or_tb\n\u001B[1;32m---> 97\u001B[0m     \u001B[38;5;28;01mif\u001B[39;00m \u001B[43mis_frame\u001B[49m\u001B[43m(\u001B[49m\u001B[43mframe_or_tb\u001B[49m\u001B[43m)\u001B[49m:\n\u001B[0;32m     98\u001B[0m         frame_or_tb \u001B[38;5;241m=\u001B[39m frame_or_tb\u001B[38;5;241m.\u001B[39mf_back\n\u001B[0;32m     99\u001B[0m     \u001B[38;5;28;01melse\u001B[39;00m:\n",
      "File \u001B[1;32m~\\PycharmProjects\\HabitTrackerIU\\venv\\lib\\site-packages\\stack_data\\utils.py:90\u001B[0m, in \u001B[0;36mis_frame\u001B[1;34m(frame_or_tb)\u001B[0m\n\u001B[0;32m     89\u001B[0m \u001B[38;5;28;01mdef\u001B[39;00m \u001B[38;5;21mis_frame\u001B[39m(frame_or_tb: Union[FrameType, TracebackType]) \u001B[38;5;241m-\u001B[39m\u001B[38;5;241m>\u001B[39m \u001B[38;5;28mbool\u001B[39m:\n\u001B[1;32m---> 90\u001B[0m     \u001B[43massert_\u001B[49m\u001B[43m(\u001B[49m\u001B[38;5;28;43misinstance\u001B[39;49m\u001B[43m(\u001B[49m\u001B[43mframe_or_tb\u001B[49m\u001B[43m,\u001B[49m\u001B[43m \u001B[49m\u001B[43m(\u001B[49m\u001B[43mtypes\u001B[49m\u001B[38;5;241;43m.\u001B[39;49m\u001B[43mFrameType\u001B[49m\u001B[43m,\u001B[49m\u001B[43m \u001B[49m\u001B[43mtypes\u001B[49m\u001B[38;5;241;43m.\u001B[39;49m\u001B[43mTracebackType\u001B[49m\u001B[43m)\u001B[49m\u001B[43m)\u001B[49m\u001B[43m)\u001B[49m\n\u001B[0;32m     91\u001B[0m     \u001B[38;5;28;01mreturn\u001B[39;00m \u001B[38;5;28misinstance\u001B[39m(frame_or_tb, (types\u001B[38;5;241m.\u001B[39mFrameType,))\n",
      "File \u001B[1;32m~\\PycharmProjects\\HabitTrackerIU\\venv\\lib\\site-packages\\stack_data\\utils.py:176\u001B[0m, in \u001B[0;36massert_\u001B[1;34m(condition, error)\u001B[0m\n\u001B[0;32m    174\u001B[0m \u001B[38;5;28;01mif\u001B[39;00m \u001B[38;5;28misinstance\u001B[39m(error, \u001B[38;5;28mstr\u001B[39m):\n\u001B[0;32m    175\u001B[0m     error \u001B[38;5;241m=\u001B[39m \u001B[38;5;167;01mAssertionError\u001B[39;00m(error)\n\u001B[1;32m--> 176\u001B[0m \u001B[38;5;28;01mraise\u001B[39;00m error\n",
      "\u001B[1;31mAssertionError\u001B[0m: "
     ]
    }
   ],
   "source": [
    "longest_streak_habit('3')"
   ],
   "metadata": {
    "collapsed": false
   }
  },
  {
   "cell_type": "code",
   "execution_count": 9,
   "outputs": [
    {
     "name": "stdout",
     "output_type": "stream",
     "text": [
      "╒══════╤════════╤═══════════════════╤══════════╤════════════╕\n",
      "│   id │ name   │ description       │   period │   duration │\n",
      "╞══════╪════════╪═══════════════════╪══════════╪════════════╡\n",
      "│    2 │ Tea    │ drink more Tea    │        1 │         30 │\n",
      "│    3 │ Coffee │ drink less coffee │        1 │         60 │\n",
      "╘══════╧════════╧═══════════════════╧══════════╧════════════╛\n"
     ]
    },
    {
     "ename": "AssertionError",
     "evalue": "",
     "output_type": "error",
     "traceback": [
      "\u001B[1;31m---------------------------------------------------------------------------\u001B[0m",
      "\u001B[1;31mExit\u001B[0m                                      Traceback (most recent call last)",
      "File \u001B[1;32m~\\PycharmProjects\\HabitTrackerIU\\venv\\lib\\site-packages\\click\\core.py:1065\u001B[0m, in \u001B[0;36mBaseCommand.main\u001B[1;34m(self, args, prog_name, complete_var, standalone_mode, windows_expand_args, **extra)\u001B[0m\n\u001B[0;32m   1058\u001B[0m         \u001B[38;5;66;03m# it's not safe to `ctx.exit(rv)` here!\u001B[39;00m\n\u001B[0;32m   1059\u001B[0m         \u001B[38;5;66;03m# note that `rv` may actually contain data like \"1\" which\u001B[39;00m\n\u001B[0;32m   1060\u001B[0m         \u001B[38;5;66;03m# has obvious effects\u001B[39;00m\n\u001B[1;32m   (...)\u001B[0m\n\u001B[0;32m   1063\u001B[0m         \u001B[38;5;66;03m# even always obvious that `rv` indicates success/failure\u001B[39;00m\n\u001B[0;32m   1064\u001B[0m         \u001B[38;5;66;03m# by its truthiness/falsiness\u001B[39;00m\n\u001B[1;32m-> 1065\u001B[0m         \u001B[43mctx\u001B[49m\u001B[38;5;241;43m.\u001B[39;49m\u001B[43mexit\u001B[49m\u001B[43m(\u001B[49m\u001B[43m)\u001B[49m\n\u001B[0;32m   1066\u001B[0m \u001B[38;5;28;01mexcept\u001B[39;00m (\u001B[38;5;167;01mEOFError\u001B[39;00m, \u001B[38;5;167;01mKeyboardInterrupt\u001B[39;00m):\n",
      "File \u001B[1;32m~\\PycharmProjects\\HabitTrackerIU\\venv\\lib\\site-packages\\click\\core.py:687\u001B[0m, in \u001B[0;36mContext.exit\u001B[1;34m(self, code)\u001B[0m\n\u001B[0;32m    686\u001B[0m \u001B[38;5;124;03m\"\"\"Exits the application with a given exit code.\"\"\"\u001B[39;00m\n\u001B[1;32m--> 687\u001B[0m \u001B[38;5;28;01mraise\u001B[39;00m Exit(code)\n",
      "\u001B[1;31mExit\u001B[0m: 0",
      "\nDuring handling of the above exception, another exception occurred:\n",
      "\u001B[1;31mSystemExit\u001B[0m                                Traceback (most recent call last)",
      "    \u001B[1;31m[... skipping hidden 1 frame]\u001B[0m\n",
      "Cell \u001B[1;32mIn [9], line 1\u001B[0m\n\u001B[1;32m----> 1\u001B[0m \u001B[43msame_periodicy\u001B[49m\u001B[43m(\u001B[49m\u001B[38;5;124;43m'\u001B[39;49m\u001B[38;5;124;43m1\u001B[39;49m\u001B[38;5;124;43m'\u001B[39;49m\u001B[43m)\u001B[49m\n",
      "File \u001B[1;32m~\\PycharmProjects\\HabitTrackerIU\\venv\\lib\\site-packages\\click\\core.py:1130\u001B[0m, in \u001B[0;36mBaseCommand.__call__\u001B[1;34m(self, *args, **kwargs)\u001B[0m\n\u001B[0;32m   1129\u001B[0m \u001B[38;5;124;03m\"\"\"Alias for :meth:`main`.\"\"\"\u001B[39;00m\n\u001B[1;32m-> 1130\u001B[0m \u001B[38;5;28;01mreturn\u001B[39;00m \u001B[38;5;28mself\u001B[39m\u001B[38;5;241m.\u001B[39mmain(\u001B[38;5;241m*\u001B[39margs, \u001B[38;5;241m*\u001B[39m\u001B[38;5;241m*\u001B[39mkwargs)\n",
      "File \u001B[1;32m~\\PycharmProjects\\HabitTrackerIU\\venv\\lib\\site-packages\\click\\core.py:1083\u001B[0m, in \u001B[0;36mBaseCommand.main\u001B[1;34m(self, args, prog_name, complete_var, standalone_mode, windows_expand_args, **extra)\u001B[0m\n\u001B[0;32m   1082\u001B[0m \u001B[38;5;28;01mif\u001B[39;00m standalone_mode:\n\u001B[1;32m-> 1083\u001B[0m     \u001B[43msys\u001B[49m\u001B[38;5;241;43m.\u001B[39;49m\u001B[43mexit\u001B[49m\u001B[43m(\u001B[49m\u001B[43me\u001B[49m\u001B[38;5;241;43m.\u001B[39;49m\u001B[43mexit_code\u001B[49m\u001B[43m)\u001B[49m\n\u001B[0;32m   1084\u001B[0m \u001B[38;5;28;01melse\u001B[39;00m:\n\u001B[0;32m   1085\u001B[0m     \u001B[38;5;66;03m# in non-standalone mode, return the exit code\u001B[39;00m\n\u001B[0;32m   1086\u001B[0m     \u001B[38;5;66;03m# note that this is only reached if `self.invoke` above raises\u001B[39;00m\n\u001B[1;32m   (...)\u001B[0m\n\u001B[0;32m   1091\u001B[0m     \u001B[38;5;66;03m# `ctx.exit(1)` and to `return 1`, the caller won't be able to\u001B[39;00m\n\u001B[0;32m   1092\u001B[0m     \u001B[38;5;66;03m# tell the difference between the two\u001B[39;00m\n",
      "\u001B[1;31mSystemExit\u001B[0m: 0",
      "\nDuring handling of the above exception, another exception occurred:\n",
      "\u001B[1;31mAssertionError\u001B[0m                            Traceback (most recent call last)",
      "    \u001B[1;31m[... skipping hidden 1 frame]\u001B[0m\n",
      "File \u001B[1;32m~\\PycharmProjects\\HabitTrackerIU\\venv\\lib\\site-packages\\IPython\\core\\interactiveshell.py:2042\u001B[0m, in \u001B[0;36mInteractiveShell.showtraceback\u001B[1;34m(self, exc_tuple, filename, tb_offset, exception_only, running_compiled_code)\u001B[0m\n\u001B[0;32m   2039\u001B[0m \u001B[38;5;28;01mif\u001B[39;00m exception_only:\n\u001B[0;32m   2040\u001B[0m     stb \u001B[38;5;241m=\u001B[39m [\u001B[38;5;124m'\u001B[39m\u001B[38;5;124mAn exception has occurred, use \u001B[39m\u001B[38;5;124m%\u001B[39m\u001B[38;5;124mtb to see \u001B[39m\u001B[38;5;124m'\u001B[39m\n\u001B[0;32m   2041\u001B[0m            \u001B[38;5;124m'\u001B[39m\u001B[38;5;124mthe full traceback.\u001B[39m\u001B[38;5;130;01m\\n\u001B[39;00m\u001B[38;5;124m'\u001B[39m]\n\u001B[1;32m-> 2042\u001B[0m     stb\u001B[38;5;241m.\u001B[39mextend(\u001B[38;5;28;43mself\u001B[39;49m\u001B[38;5;241;43m.\u001B[39;49m\u001B[43mInteractiveTB\u001B[49m\u001B[38;5;241;43m.\u001B[39;49m\u001B[43mget_exception_only\u001B[49m\u001B[43m(\u001B[49m\u001B[43metype\u001B[49m\u001B[43m,\u001B[49m\n\u001B[0;32m   2043\u001B[0m \u001B[43m                                                     \u001B[49m\u001B[43mvalue\u001B[49m\u001B[43m)\u001B[49m)\n\u001B[0;32m   2044\u001B[0m \u001B[38;5;28;01melse\u001B[39;00m:\n\u001B[0;32m   2045\u001B[0m     \u001B[38;5;28;01mtry\u001B[39;00m:\n\u001B[0;32m   2046\u001B[0m         \u001B[38;5;66;03m# Exception classes can customise their traceback - we\u001B[39;00m\n\u001B[0;32m   2047\u001B[0m         \u001B[38;5;66;03m# use this in IPython.parallel for exceptions occurring\u001B[39;00m\n\u001B[0;32m   2048\u001B[0m         \u001B[38;5;66;03m# in the engines. This should return a list of strings.\u001B[39;00m\n",
      "File \u001B[1;32m~\\PycharmProjects\\HabitTrackerIU\\venv\\lib\\site-packages\\IPython\\core\\ultratb.py:579\u001B[0m, in \u001B[0;36mListTB.get_exception_only\u001B[1;34m(self, etype, value)\u001B[0m\n\u001B[0;32m    571\u001B[0m \u001B[38;5;28;01mdef\u001B[39;00m \u001B[38;5;21mget_exception_only\u001B[39m(\u001B[38;5;28mself\u001B[39m, etype, value):\n\u001B[0;32m    572\u001B[0m     \u001B[38;5;124;03m\"\"\"Only print the exception type and message, without a traceback.\u001B[39;00m\n\u001B[0;32m    573\u001B[0m \n\u001B[0;32m    574\u001B[0m \u001B[38;5;124;03m    Parameters\u001B[39;00m\n\u001B[1;32m   (...)\u001B[0m\n\u001B[0;32m    577\u001B[0m \u001B[38;5;124;03m    value : exception value\u001B[39;00m\n\u001B[0;32m    578\u001B[0m \u001B[38;5;124;03m    \"\"\"\u001B[39;00m\n\u001B[1;32m--> 579\u001B[0m     \u001B[38;5;28;01mreturn\u001B[39;00m \u001B[43mListTB\u001B[49m\u001B[38;5;241;43m.\u001B[39;49m\u001B[43mstructured_traceback\u001B[49m\u001B[43m(\u001B[49m\u001B[38;5;28;43mself\u001B[39;49m\u001B[43m,\u001B[49m\u001B[43m \u001B[49m\u001B[43metype\u001B[49m\u001B[43m,\u001B[49m\u001B[43m \u001B[49m\u001B[43mvalue\u001B[49m\u001B[43m)\u001B[49m\n",
      "File \u001B[1;32m~\\PycharmProjects\\HabitTrackerIU\\venv\\lib\\site-packages\\IPython\\core\\ultratb.py:446\u001B[0m, in \u001B[0;36mListTB.structured_traceback\u001B[1;34m(self, etype, evalue, etb, tb_offset, context)\u001B[0m\n\u001B[0;32m    443\u001B[0m     chained_exc_ids\u001B[38;5;241m.\u001B[39madd(\u001B[38;5;28mid\u001B[39m(exception[\u001B[38;5;241m1\u001B[39m]))\n\u001B[0;32m    444\u001B[0m     chained_exceptions_tb_offset \u001B[38;5;241m=\u001B[39m \u001B[38;5;241m0\u001B[39m\n\u001B[0;32m    445\u001B[0m     out_list \u001B[38;5;241m=\u001B[39m (\n\u001B[1;32m--> 446\u001B[0m         \u001B[38;5;28;43mself\u001B[39;49m\u001B[38;5;241;43m.\u001B[39;49m\u001B[43mstructured_traceback\u001B[49m\u001B[43m(\u001B[49m\n\u001B[0;32m    447\u001B[0m \u001B[43m            \u001B[49m\u001B[43metype\u001B[49m\u001B[43m,\u001B[49m\u001B[43m \u001B[49m\u001B[43mevalue\u001B[49m\u001B[43m,\u001B[49m\u001B[43m \u001B[49m\u001B[43m(\u001B[49m\u001B[43metb\u001B[49m\u001B[43m,\u001B[49m\u001B[43m \u001B[49m\u001B[43mchained_exc_ids\u001B[49m\u001B[43m)\u001B[49m\u001B[43m,\u001B[49m\n\u001B[0;32m    448\u001B[0m \u001B[43m            \u001B[49m\u001B[43mchained_exceptions_tb_offset\u001B[49m\u001B[43m,\u001B[49m\u001B[43m \u001B[49m\u001B[43mcontext\u001B[49m\u001B[43m)\u001B[49m\n\u001B[0;32m    449\u001B[0m         \u001B[38;5;241m+\u001B[39m chained_exception_message\n\u001B[0;32m    450\u001B[0m         \u001B[38;5;241m+\u001B[39m out_list)\n\u001B[0;32m    452\u001B[0m \u001B[38;5;28;01mreturn\u001B[39;00m out_list\n",
      "File \u001B[1;32m~\\PycharmProjects\\HabitTrackerIU\\venv\\lib\\site-packages\\IPython\\core\\ultratb.py:1112\u001B[0m, in \u001B[0;36mAutoFormattedTB.structured_traceback\u001B[1;34m(self, etype, value, tb, tb_offset, number_of_lines_of_context)\u001B[0m\n\u001B[0;32m   1110\u001B[0m \u001B[38;5;28;01melse\u001B[39;00m:\n\u001B[0;32m   1111\u001B[0m     \u001B[38;5;28mself\u001B[39m\u001B[38;5;241m.\u001B[39mtb \u001B[38;5;241m=\u001B[39m tb\n\u001B[1;32m-> 1112\u001B[0m \u001B[38;5;28;01mreturn\u001B[39;00m \u001B[43mFormattedTB\u001B[49m\u001B[38;5;241;43m.\u001B[39;49m\u001B[43mstructured_traceback\u001B[49m\u001B[43m(\u001B[49m\n\u001B[0;32m   1113\u001B[0m \u001B[43m    \u001B[49m\u001B[38;5;28;43mself\u001B[39;49m\u001B[43m,\u001B[49m\u001B[43m \u001B[49m\u001B[43metype\u001B[49m\u001B[43m,\u001B[49m\u001B[43m \u001B[49m\u001B[43mvalue\u001B[49m\u001B[43m,\u001B[49m\u001B[43m \u001B[49m\u001B[43mtb\u001B[49m\u001B[43m,\u001B[49m\u001B[43m \u001B[49m\u001B[43mtb_offset\u001B[49m\u001B[43m,\u001B[49m\u001B[43m \u001B[49m\u001B[43mnumber_of_lines_of_context\u001B[49m\u001B[43m)\u001B[49m\n",
      "File \u001B[1;32m~\\PycharmProjects\\HabitTrackerIU\\venv\\lib\\site-packages\\IPython\\core\\ultratb.py:1006\u001B[0m, in \u001B[0;36mFormattedTB.structured_traceback\u001B[1;34m(self, etype, value, tb, tb_offset, number_of_lines_of_context)\u001B[0m\n\u001B[0;32m   1003\u001B[0m mode \u001B[38;5;241m=\u001B[39m \u001B[38;5;28mself\u001B[39m\u001B[38;5;241m.\u001B[39mmode\n\u001B[0;32m   1004\u001B[0m \u001B[38;5;28;01mif\u001B[39;00m mode \u001B[38;5;129;01min\u001B[39;00m \u001B[38;5;28mself\u001B[39m\u001B[38;5;241m.\u001B[39mverbose_modes:\n\u001B[0;32m   1005\u001B[0m     \u001B[38;5;66;03m# Verbose modes need a full traceback\u001B[39;00m\n\u001B[1;32m-> 1006\u001B[0m     \u001B[38;5;28;01mreturn\u001B[39;00m \u001B[43mVerboseTB\u001B[49m\u001B[38;5;241;43m.\u001B[39;49m\u001B[43mstructured_traceback\u001B[49m\u001B[43m(\u001B[49m\n\u001B[0;32m   1007\u001B[0m \u001B[43m        \u001B[49m\u001B[38;5;28;43mself\u001B[39;49m\u001B[43m,\u001B[49m\u001B[43m \u001B[49m\u001B[43metype\u001B[49m\u001B[43m,\u001B[49m\u001B[43m \u001B[49m\u001B[43mvalue\u001B[49m\u001B[43m,\u001B[49m\u001B[43m \u001B[49m\u001B[43mtb\u001B[49m\u001B[43m,\u001B[49m\u001B[43m \u001B[49m\u001B[43mtb_offset\u001B[49m\u001B[43m,\u001B[49m\u001B[43m \u001B[49m\u001B[43mnumber_of_lines_of_context\u001B[49m\n\u001B[0;32m   1008\u001B[0m \u001B[43m    \u001B[49m\u001B[43m)\u001B[49m\n\u001B[0;32m   1009\u001B[0m \u001B[38;5;28;01melif\u001B[39;00m mode \u001B[38;5;241m==\u001B[39m \u001B[38;5;124m'\u001B[39m\u001B[38;5;124mMinimal\u001B[39m\u001B[38;5;124m'\u001B[39m:\n\u001B[0;32m   1010\u001B[0m     \u001B[38;5;28;01mreturn\u001B[39;00m ListTB\u001B[38;5;241m.\u001B[39mget_exception_only(\u001B[38;5;28mself\u001B[39m, etype, value)\n",
      "File \u001B[1;32m~\\PycharmProjects\\HabitTrackerIU\\venv\\lib\\site-packages\\IPython\\core\\ultratb.py:859\u001B[0m, in \u001B[0;36mVerboseTB.structured_traceback\u001B[1;34m(self, etype, evalue, etb, tb_offset, number_of_lines_of_context)\u001B[0m\n\u001B[0;32m    850\u001B[0m \u001B[38;5;28;01mdef\u001B[39;00m \u001B[38;5;21mstructured_traceback\u001B[39m(\n\u001B[0;32m    851\u001B[0m     \u001B[38;5;28mself\u001B[39m,\n\u001B[0;32m    852\u001B[0m     etype: \u001B[38;5;28mtype\u001B[39m,\n\u001B[1;32m   (...)\u001B[0m\n\u001B[0;32m    856\u001B[0m     number_of_lines_of_context: \u001B[38;5;28mint\u001B[39m \u001B[38;5;241m=\u001B[39m \u001B[38;5;241m5\u001B[39m,\n\u001B[0;32m    857\u001B[0m ):\n\u001B[0;32m    858\u001B[0m     \u001B[38;5;124;03m\"\"\"Return a nice text document describing the traceback.\"\"\"\u001B[39;00m\n\u001B[1;32m--> 859\u001B[0m     formatted_exception \u001B[38;5;241m=\u001B[39m \u001B[38;5;28;43mself\u001B[39;49m\u001B[38;5;241;43m.\u001B[39;49m\u001B[43mformat_exception_as_a_whole\u001B[49m\u001B[43m(\u001B[49m\u001B[43metype\u001B[49m\u001B[43m,\u001B[49m\u001B[43m \u001B[49m\u001B[43mevalue\u001B[49m\u001B[43m,\u001B[49m\u001B[43m \u001B[49m\u001B[43metb\u001B[49m\u001B[43m,\u001B[49m\u001B[43m \u001B[49m\u001B[43mnumber_of_lines_of_context\u001B[49m\u001B[43m,\u001B[49m\n\u001B[0;32m    860\u001B[0m \u001B[43m                                                           \u001B[49m\u001B[43mtb_offset\u001B[49m\u001B[43m)\u001B[49m\n\u001B[0;32m    862\u001B[0m     colors \u001B[38;5;241m=\u001B[39m \u001B[38;5;28mself\u001B[39m\u001B[38;5;241m.\u001B[39mColors  \u001B[38;5;66;03m# just a shorthand + quicker name lookup\u001B[39;00m\n\u001B[0;32m    863\u001B[0m     colorsnormal \u001B[38;5;241m=\u001B[39m colors\u001B[38;5;241m.\u001B[39mNormal  \u001B[38;5;66;03m# used a lot\u001B[39;00m\n",
      "File \u001B[1;32m~\\PycharmProjects\\HabitTrackerIU\\venv\\lib\\site-packages\\IPython\\core\\ultratb.py:793\u001B[0m, in \u001B[0;36mVerboseTB.format_exception_as_a_whole\u001B[1;34m(self, etype, evalue, etb, number_of_lines_of_context, tb_offset)\u001B[0m\n\u001B[0;32m    790\u001B[0m \u001B[38;5;28;01massert\u001B[39;00m \u001B[38;5;28misinstance\u001B[39m(tb_offset, \u001B[38;5;28mint\u001B[39m)\n\u001B[0;32m    791\u001B[0m head \u001B[38;5;241m=\u001B[39m \u001B[38;5;28mself\u001B[39m\u001B[38;5;241m.\u001B[39mprepare_header(etype, \u001B[38;5;28mself\u001B[39m\u001B[38;5;241m.\u001B[39mlong_header)\n\u001B[0;32m    792\u001B[0m records \u001B[38;5;241m=\u001B[39m (\n\u001B[1;32m--> 793\u001B[0m     \u001B[38;5;28;43mself\u001B[39;49m\u001B[38;5;241;43m.\u001B[39;49m\u001B[43mget_records\u001B[49m\u001B[43m(\u001B[49m\u001B[43metb\u001B[49m\u001B[43m,\u001B[49m\u001B[43m \u001B[49m\u001B[43mnumber_of_lines_of_context\u001B[49m\u001B[43m,\u001B[49m\u001B[43m \u001B[49m\u001B[43mtb_offset\u001B[49m\u001B[43m)\u001B[49m \u001B[38;5;28;01mif\u001B[39;00m etb \u001B[38;5;28;01melse\u001B[39;00m []\n\u001B[0;32m    794\u001B[0m )\n\u001B[0;32m    796\u001B[0m frames \u001B[38;5;241m=\u001B[39m []\n\u001B[0;32m    797\u001B[0m skipped \u001B[38;5;241m=\u001B[39m \u001B[38;5;241m0\u001B[39m\n",
      "File \u001B[1;32m~\\PycharmProjects\\HabitTrackerIU\\venv\\lib\\site-packages\\IPython\\core\\ultratb.py:848\u001B[0m, in \u001B[0;36mVerboseTB.get_records\u001B[1;34m(self, etb, number_of_lines_of_context, tb_offset)\u001B[0m\n\u001B[0;32m    842\u001B[0m     formatter \u001B[38;5;241m=\u001B[39m \u001B[38;5;28;01mNone\u001B[39;00m\n\u001B[0;32m    843\u001B[0m options \u001B[38;5;241m=\u001B[39m stack_data\u001B[38;5;241m.\u001B[39mOptions(\n\u001B[0;32m    844\u001B[0m     before\u001B[38;5;241m=\u001B[39mbefore,\n\u001B[0;32m    845\u001B[0m     after\u001B[38;5;241m=\u001B[39mafter,\n\u001B[0;32m    846\u001B[0m     pygments_formatter\u001B[38;5;241m=\u001B[39mformatter,\n\u001B[0;32m    847\u001B[0m )\n\u001B[1;32m--> 848\u001B[0m \u001B[38;5;28;01mreturn\u001B[39;00m \u001B[38;5;28;43mlist\u001B[39;49m\u001B[43m(\u001B[49m\u001B[43mstack_data\u001B[49m\u001B[38;5;241;43m.\u001B[39;49m\u001B[43mFrameInfo\u001B[49m\u001B[38;5;241;43m.\u001B[39;49m\u001B[43mstack_data\u001B[49m\u001B[43m(\u001B[49m\u001B[43metb\u001B[49m\u001B[43m,\u001B[49m\u001B[43m \u001B[49m\u001B[43moptions\u001B[49m\u001B[38;5;241;43m=\u001B[39;49m\u001B[43moptions\u001B[49m\u001B[43m)\u001B[49m\u001B[43m)\u001B[49m[tb_offset:]\n",
      "File \u001B[1;32m~\\PycharmProjects\\HabitTrackerIU\\venv\\lib\\site-packages\\stack_data\\core.py:564\u001B[0m, in \u001B[0;36mFrameInfo.stack_data\u001B[1;34m(cls, frame_or_tb, options, collapse_repeated_frames)\u001B[0m\n\u001B[0;32m    548\u001B[0m \u001B[38;5;129m@classmethod\u001B[39m\n\u001B[0;32m    549\u001B[0m \u001B[38;5;28;01mdef\u001B[39;00m \u001B[38;5;21mstack_data\u001B[39m(\n\u001B[0;32m    550\u001B[0m         \u001B[38;5;28mcls\u001B[39m,\n\u001B[1;32m   (...)\u001B[0m\n\u001B[0;32m    554\u001B[0m         collapse_repeated_frames: \u001B[38;5;28mbool\u001B[39m \u001B[38;5;241m=\u001B[39m \u001B[38;5;28;01mTrue\u001B[39;00m\n\u001B[0;32m    555\u001B[0m ) \u001B[38;5;241m-\u001B[39m\u001B[38;5;241m>\u001B[39m Iterator[Union[\u001B[38;5;124m'\u001B[39m\u001B[38;5;124mFrameInfo\u001B[39m\u001B[38;5;124m'\u001B[39m, RepeatedFrames]]:\n\u001B[0;32m    556\u001B[0m     \u001B[38;5;124;03m\"\"\"\u001B[39;00m\n\u001B[0;32m    557\u001B[0m \u001B[38;5;124;03m    An iterator of FrameInfo and RepeatedFrames objects representing\u001B[39;00m\n\u001B[0;32m    558\u001B[0m \u001B[38;5;124;03m    a full traceback or stack. Similar consecutive frames are collapsed into RepeatedFrames\u001B[39;00m\n\u001B[1;32m   (...)\u001B[0m\n\u001B[0;32m    562\u001B[0m \u001B[38;5;124;03m    and optionally an Options object to configure.\u001B[39;00m\n\u001B[0;32m    563\u001B[0m \u001B[38;5;124;03m    \"\"\"\u001B[39;00m\n\u001B[1;32m--> 564\u001B[0m     stack \u001B[38;5;241m=\u001B[39m \u001B[38;5;28;43mlist\u001B[39;49m\u001B[43m(\u001B[49m\u001B[43miter_stack\u001B[49m\u001B[43m(\u001B[49m\u001B[43mframe_or_tb\u001B[49m\u001B[43m)\u001B[49m\u001B[43m)\u001B[49m\n\u001B[0;32m    566\u001B[0m     \u001B[38;5;66;03m# Reverse the stack from a frame so that it's in the same order\u001B[39;00m\n\u001B[0;32m    567\u001B[0m     \u001B[38;5;66;03m# as the order from a traceback, which is the order of a printed\u001B[39;00m\n\u001B[0;32m    568\u001B[0m     \u001B[38;5;66;03m# traceback when read top to bottom (most recent call last)\u001B[39;00m\n\u001B[0;32m    569\u001B[0m     \u001B[38;5;28;01mif\u001B[39;00m is_frame(frame_or_tb):\n",
      "File \u001B[1;32m~\\PycharmProjects\\HabitTrackerIU\\venv\\lib\\site-packages\\stack_data\\utils.py:97\u001B[0m, in \u001B[0;36miter_stack\u001B[1;34m(frame_or_tb)\u001B[0m\n\u001B[0;32m     95\u001B[0m \u001B[38;5;28;01mwhile\u001B[39;00m frame_or_tb:\n\u001B[0;32m     96\u001B[0m     \u001B[38;5;28;01myield\u001B[39;00m frame_or_tb\n\u001B[1;32m---> 97\u001B[0m     \u001B[38;5;28;01mif\u001B[39;00m \u001B[43mis_frame\u001B[49m\u001B[43m(\u001B[49m\u001B[43mframe_or_tb\u001B[49m\u001B[43m)\u001B[49m:\n\u001B[0;32m     98\u001B[0m         frame_or_tb \u001B[38;5;241m=\u001B[39m frame_or_tb\u001B[38;5;241m.\u001B[39mf_back\n\u001B[0;32m     99\u001B[0m     \u001B[38;5;28;01melse\u001B[39;00m:\n",
      "File \u001B[1;32m~\\PycharmProjects\\HabitTrackerIU\\venv\\lib\\site-packages\\stack_data\\utils.py:90\u001B[0m, in \u001B[0;36mis_frame\u001B[1;34m(frame_or_tb)\u001B[0m\n\u001B[0;32m     89\u001B[0m \u001B[38;5;28;01mdef\u001B[39;00m \u001B[38;5;21mis_frame\u001B[39m(frame_or_tb: Union[FrameType, TracebackType]) \u001B[38;5;241m-\u001B[39m\u001B[38;5;241m>\u001B[39m \u001B[38;5;28mbool\u001B[39m:\n\u001B[1;32m---> 90\u001B[0m     \u001B[43massert_\u001B[49m\u001B[43m(\u001B[49m\u001B[38;5;28;43misinstance\u001B[39;49m\u001B[43m(\u001B[49m\u001B[43mframe_or_tb\u001B[49m\u001B[43m,\u001B[49m\u001B[43m \u001B[49m\u001B[43m(\u001B[49m\u001B[43mtypes\u001B[49m\u001B[38;5;241;43m.\u001B[39;49m\u001B[43mFrameType\u001B[49m\u001B[43m,\u001B[49m\u001B[43m \u001B[49m\u001B[43mtypes\u001B[49m\u001B[38;5;241;43m.\u001B[39;49m\u001B[43mTracebackType\u001B[49m\u001B[43m)\u001B[49m\u001B[43m)\u001B[49m\u001B[43m)\u001B[49m\n\u001B[0;32m     91\u001B[0m     \u001B[38;5;28;01mreturn\u001B[39;00m \u001B[38;5;28misinstance\u001B[39m(frame_or_tb, (types\u001B[38;5;241m.\u001B[39mFrameType,))\n",
      "File \u001B[1;32m~\\PycharmProjects\\HabitTrackerIU\\venv\\lib\\site-packages\\stack_data\\utils.py:176\u001B[0m, in \u001B[0;36massert_\u001B[1;34m(condition, error)\u001B[0m\n\u001B[0;32m    174\u001B[0m \u001B[38;5;28;01mif\u001B[39;00m \u001B[38;5;28misinstance\u001B[39m(error, \u001B[38;5;28mstr\u001B[39m):\n\u001B[0;32m    175\u001B[0m     error \u001B[38;5;241m=\u001B[39m \u001B[38;5;167;01mAssertionError\u001B[39;00m(error)\n\u001B[1;32m--> 176\u001B[0m \u001B[38;5;28;01mraise\u001B[39;00m error\n",
      "\u001B[1;31mAssertionError\u001B[0m: "
     ]
    }
   ],
   "source": [
    "same_periodicy('1')"
   ],
   "metadata": {
    "collapsed": false
   }
  },
  {
   "cell_type": "code",
   "execution_count": null,
   "outputs": [],
   "source": [],
   "metadata": {
    "collapsed": false
   }
  }
 ],
 "metadata": {
  "kernelspec": {
   "display_name": "Python 3",
   "language": "python",
   "name": "python3"
  },
  "language_info": {
   "codemirror_mode": {
    "name": "ipython",
    "version": 2
   },
   "file_extension": ".py",
   "mimetype": "text/x-python",
   "name": "python",
   "nbconvert_exporter": "python",
   "pygments_lexer": "ipython2",
   "version": "2.7.6"
  }
 },
 "nbformat": 4,
 "nbformat_minor": 0
}
