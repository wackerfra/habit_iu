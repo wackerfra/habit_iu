{
 "cells": [
  {
   "cell_type": "code",
   "execution_count": 45,
   "metadata": {
    "collapsed": true
   },
   "outputs": [],
   "source": [
    "from datetime import datetime\n",
    "from tabulate import tabulate\n",
    "import sqlite3\n",
    "from src.analytics import get_cursor\n",
    "\n",
    "\n",
    "def connect_db():\n",
    "        try:\n",
    "            conn = sqlite3.connect('habit.db')\n",
    "\n",
    "        except ConnectionError as ex:\n",
    "            print(ex)\n",
    "\n",
    "        return conn\n",
    "\n",
    "def longest_streak_habit(habit_id):\n",
    "    table_format = 'fancy_outline'\n",
    "    first_row = ['id', 'name', 'period', 'last_completion_date']\n",
    "    dateformat = \"%Y-%m-%d %H:%M:%S\"\n",
    "    streak = 1\n",
    "    longest = 1\n",
    "    try:\n",
    "        cur = get_cursor()\n",
    "        rs = cur.execute(\"\"\" SELECT habits_id, name,periods_fk, last_completion_date FROM habits WHERE habits_id = ? AND last_completion_date not null  \"\"\",str(habit_id))\n",
    "        rows = rs.fetchall()\n",
    "        print(rows)\n",
    "    except sqlite3.Error as ex:\n",
    "        print(ex)\n",
    "    data = rows[0]\n",
    "    period = data[2]\n",
    "    first_compl = data[3]\n",
    "    for row in rows:\n",
    "        if streak > longest:\n",
    "            longest = streak\n",
    "        match period:\n",
    "            case 1:\n",
    "                first = datetime.strptime(first_compl,dateformat)\n",
    "                current = datetime.strptime(row[3],dateformat)\n",
    "                delta = current - first\n",
    "                if delta.days <= 1:\n",
    "                    streak += 1\n",
    "                else:\n",
    "                    streak = 0\n",
    "                    continue\n",
    "            case 2:\n",
    "                first = datetime.strptime(first_compl,dateformat)\n",
    "                current = datetime.strptime(row[3],dateformat)\n",
    "                delta = current - first\n",
    "                if delta.days <= 7:\n",
    "                    streak += 1\n",
    "                else:\n",
    "                    streak = 0\n",
    "                    continue\n",
    "            case 3:\n",
    "                first = datetime.strptime(first_compl,dateformat)\n",
    "                current = datetime.strptime(row[3],dateformat)\n",
    "                delta = current - first\n",
    "                if delta.days <= 30:\n",
    "                    streak += 1\n",
    "                else:\n",
    "                    streak = 0\n",
    "                    continue\n",
    "            case 4:\n",
    "                first = datetime.strptime(first_compl,dateformat)\n",
    "                current = datetime.strptime(row[3],dateformat)\n",
    "                delta = current - first\n",
    "                if delta.days <= 365:\n",
    "                    streak += 1\n",
    "                else:\n",
    "                    streak = 0\n",
    "                    continue\n",
    "\n",
    "    print(f'The longest streak is {longest} times')\n",
    "\n",
    "\n",
    "\n",
    "    # print(tabulate(rows, headers=first_row, tablefmt=table_format))\n"
   ]
  },
  {
   "cell_type": "code",
   "execution_count": 46,
   "outputs": [
    {
     "name": "stdout",
     "output_type": "stream",
     "text": [
      "[(3, 'Coffee', 1, '2022-11-28 20:17:00'), (3, 'Coffee', 1, '2022-11-29 10:52:00')]\n",
      "The longest streak is 2 times\n"
     ]
    }
   ],
   "source": [
    "longest_streak_habit(3)"
   ],
   "metadata": {
    "collapsed": false
   }
  },
  {
   "cell_type": "code",
   "execution_count": 47,
   "outputs": [
    {
     "name": "stdout",
     "output_type": "stream",
     "text": [
      "[(4, 'Exercise', 2, '2022-11-20 12:27:00'), (4, 'Exercise', 2, '2022-11-29 14:56:00')]\n",
      "The longest streak is 2 times\n"
     ]
    }
   ],
   "source": [
    "longest_streak_habit(4)"
   ],
   "metadata": {
    "collapsed": false
   }
  },
  {
   "cell_type": "code",
   "execution_count": null,
   "outputs": [],
   "source": [],
   "metadata": {
    "collapsed": false
   }
  }
 ],
 "metadata": {
  "kernelspec": {
   "display_name": "Python 3",
   "language": "python",
   "name": "python3"
  },
  "language_info": {
   "codemirror_mode": {
    "name": "ipython",
    "version": 2
   },
   "file_extension": ".py",
   "mimetype": "text/x-python",
   "name": "python",
   "nbconvert_exporter": "python",
   "pygments_lexer": "ipython2",
   "version": "2.7.6"
  }
 },
 "nbformat": 4,
 "nbformat_minor": 0
}
